{
 "cells": [
  {
   "cell_type": "markdown",
   "id": "a5b4e7ac",
   "metadata": {},
   "source": [
    "# Introduction\n",
    "\n",
    "L'entreprise HumanForYou subit depuis quelques années un turn-over d'environ 15% de ses employés tous les ans et nécessite de retrouver des profils similaires sur le marché de l'emploi. Celle-ci cherche à savoir les raisons de tous ces départs et a fait appel à notre équipe de spécialistes afin d'identifier ces différentes raisons. Ce document va donc présenter le compte rendu de l'analyse des données commandité par la direction de l'entreprise.\n",
    "\n",
    "# Problématiques générales\n",
    "\n",
    "- Quels sont les facteurs ayant le plus d'influence sur ce taux de turn-over ?\n",
    "- Comment réduire ce taux de turn-over ?\n",
    "\n",
    "# Objectifs\n",
    "\n",
    "Les deux principaux objectifs de ce document sont de mettre en avant les différentes raisons possibles qui poussent les employés à changer d'entreprise tous les ans et proposer une solution à ce problème.\n",
    "\n",
    "# Périmètre des données utilisées\n",
    "\n",
    "Données fondamentales :\n",
    "\n",
    "- Nombre d'employés : 4410\n",
    "- Jeux de données au format CSV :\n",
    "    - Données générales sur les employés : general_data\n",
    "    - Données du sondage de satisfaction des employés dans l'entreprise : employee_survey_data\n",
    "    - Données sur les évaluations du manager : manager_survey_data\n",
    "    - Données sur les horraires d'entrée au bureau : in_time\n",
    "    - Données sur les horraires de sortie du bureau : out_time\n",
    "\n",
    "# Plan d'action\n",
    "\n",
    "Afin de répondre aux problèmatiques, le plan d'action suivant s'est déssiné :\n",
    "- Étape n°1 - Préparation des données\n",
    "- Étape n°2 - Explication des indicateurs\n",
    "- Étape n°3 - Entrainement des modèles\n",
    "- Étape n°4 - Interprétation des résultats\n",
    "\n",
    "# Étape n°1 - Préparation des données\n",
    "## Fonction de sauvegarde des graphiques\n",
    "\n",
    "Dans le futur, lors de l'affichage des graphiques, ces derniers, par soucis de visibilité, serons enregistrés en local sur l'ordinateur grâce la fonction suivante *save_fig()* : "
   ]
  },
  {
   "cell_type": "code",
   "execution_count": 1,
   "id": "1fd163c3",
   "metadata": {},
   "outputs": [],
   "source": [
    "import matplotlib\n",
    "import matplotlib.pyplot as plt\n",
    "import seaborn as sns\n",
    "\n",
    "def save_fig(fig_id):\n",
    "    plt.tight_layout()\n",
    "    plt.savefig(os.path.join(fig_id + \".png\"), format=\"png\", dpi=300)"
   ]
  },
  {
   "cell_type": "markdown",
   "id": "9c785482",
   "metadata": {},
   "source": [
    "## Fonction d'importation des données\n",
    "Actuellement, le jeu de données total est composé de cinq fichiers au format CSV. Ces fichiers sont à importer et à transformer en [DataFrame](https://pandas.pydata.org/pandas-docs/stable/reference/api/pandas.DataFrame.html) pandas (bibliothèque Python prévue pour l'analyse et le traitement de données). Pour éviter de dupliquer le code qui importe ces jeux de données, une fonction *load_data()* a été créé afin d'importer un fichier et de le transformer en DataFrame automatiquement."
   ]
  },
  {
   "cell_type": "code",
   "execution_count": 2,
   "id": "a49b64d5",
   "metadata": {},
   "outputs": [],
   "source": [
    "import os\n",
    "import pandas as pd\n",
    "\n",
    "def load_data(file):\n",
    "    return pd.read_csv(file)"
   ]
  },
  {
   "cell_type": "markdown",
   "id": "6ffed5cc",
   "metadata": {},
   "source": [
    "## Importation des données\n",
    "Comme son nom l'indique, cette partie importe les jeux de données dans des DataFrames sans aucune modification."
   ]
  },
  {
   "cell_type": "code",
   "execution_count": 3,
   "id": "b9e88378",
   "metadata": {},
   "outputs": [],
   "source": [
    "path = \"./datasets/\"\n",
    "general_data = load_data(path +\"general_data.csv\")\n",
    "employee_survey_data = load_data(path +\"employee_survey_data.csv\")\n",
    "manager_survey_data = load_data(path +\"manager_survey_data.csv\")\n",
    "in_time = load_data(path +\"in_time.csv\")\n",
    "out_time = load_data(path +\"out_time.csv\")"
   ]
  },
  {
   "cell_type": "markdown",
   "id": "8be9a4c1",
   "metadata": {},
   "source": [
    "## Jointure des données\n",
    "Pour la suite du travail, les actions seront effectuées sur une copie du dataset *general_data* afin d'éviter tout soucis."
   ]
  },
  {
   "cell_type": "code",
   "execution_count": 4,
   "id": "41f6102f",
   "metadata": {},
   "outputs": [],
   "source": [
    "general_data_copy = general_data.copy()"
   ]
  },
  {
   "cell_type": "markdown",
   "id": "63227283",
   "metadata": {},
   "source": [
    "Maintenant qu'une copie de *general_data* est créée, les deux datasets *employee_survey_data* et *manager_survey_data* sont joints via la colonne \"EmployeeID\".\n",
    "\n",
    "Pour rappel :\n",
    "- *employee_survey_data* contient les réponses au questionnaire du service RH sur la qualité de vie au travail\n",
    "- *manager_survey_data* contient les évaluations faites par les managers pour chaque employé"
   ]
  },
  {
   "cell_type": "code",
   "execution_count": 5,
   "id": "ff5b948b",
   "metadata": {},
   "outputs": [],
   "source": [
    "general_data_copy = general_data_copy.join(employee_survey_data.set_index(\"EmployeeID\"), on=\"EmployeeID\")"
   ]
  },
  {
   "cell_type": "code",
   "execution_count": 6,
   "id": "3cb93bbd",
   "metadata": {},
   "outputs": [],
   "source": [
    "general_data_copy = general_data_copy.join(manager_survey_data.set_index(\"EmployeeID\"), on=\"EmployeeID\")"
   ]
  },
  {
   "cell_type": "markdown",
   "id": "fd85196f",
   "metadata": {},
   "source": [
    "### Temps\n",
    "Les deux datasets *in_time* et *out_time*, énumèrent les badges d'entrée et de sortie de chaque employé durant la période du 1er janvier au 31 décembre 2015. Les dates de ces jeux de données seront converties en [datetime](https://docs.python.org/fr/3/library/datetime.html) puis en [timestamp](https://docs.python.org/fr/3/library/datetime.html?highlight=timestamp#datetime.datetime.timestamp) pour les manipuler plus simplement à postériori."
   ]
  },
  {
   "cell_type": "code",
   "execution_count": 7,
   "id": "6b72dcbc",
   "metadata": {},
   "outputs": [],
   "source": [
    "import numpy as np\n",
    "\n",
    "in_time= in_time.dropna(axis=1, how='all').fillna(0)\n",
    "out_time = out_time.dropna(axis=1, how='all').fillna(0)\n",
    "\n",
    "for col in in_time.keys()[1:]:\n",
    "    in_time[col] = pd.to_datetime(in_time[col]).values.astype(np.int64) // 10 ** 9\n",
    "\n",
    "for col in out_time.keys()[1:]:\n",
    "    out_time[col] = pd.to_datetime(out_time[col]).values.astype(np.int64) // 10 ** 9"
   ]
  },
  {
   "cell_type": "markdown",
   "id": "645de2af",
   "metadata": {},
   "source": [
    "Une fois cela fait, un tri est effectué afin de les avoir dans l’ordre croissant par rapport à l'identifiant des employés."
   ]
  },
  {
   "cell_type": "code",
   "execution_count": 8,
   "id": "0c5f8479",
   "metadata": {},
   "outputs": [],
   "source": [
    "in_time = in_time.sort_values(by=\"Unnamed: 0\", ascending=True)\n",
    "out_time = out_time.sort_values(by=\"Unnamed: 0\", ascending=True)"
   ]
  },
  {
   "cell_type": "markdown",
   "id": "c428abf9",
   "metadata": {},
   "source": [
    "Par la suite, un calcul sur la différence entre les badges scannés à l'entrée des employés et les badges scannés à la sortie des employés sera effectué pour avoir le temps de travail journalier. \n",
    "\n",
    "Avant de faire cela, la colonne des identifiants sera ajoutée à elle-même, cela aura pour effet durant la soustraction des colonnes de garder l'identifiant de l'employé intacte."
   ]
  },
  {
   "cell_type": "code",
   "execution_count": 9,
   "id": "5b939b27",
   "metadata": {},
   "outputs": [],
   "source": [
    "out_time[\"Unnamed: 0\"] = out_time[\"Unnamed: 0\"] + out_time[\"Unnamed: 0\"]\n",
    "time = out_time.subtract(in_time, axis=1)"
   ]
  },
  {
   "cell_type": "markdown",
   "id": "99c80821",
   "metadata": {},
   "source": [
    "Une fois le calcul du temps journalier terminé, nous effectuons à nouveau une soustraction, cette fois si entre le temps journalier effectué par l'employé et le temps de travail journalier inscrit dans son contrat.\n",
    "\n",
    "Par la suite, les valeurs inférieures (les temps de retard) sont remplacées par -1 et les valeurs supérieures (les temps d'heures supplémentaires) sont remplacées par 1.\n",
    "\n",
    "Enfin, ces valeurs sont additionnées pour obtenir un score  d'assiduité pour chaque employé à l'année, ces valeurs seront stockées dans une colonne appelée *AttendanceScore*."
   ]
  },
  {
   "cell_type": "code",
   "execution_count": 10,
   "id": "4c496577",
   "metadata": {},
   "outputs": [],
   "source": [
    "time_tmp = time.copy()\n",
    "time_tmp = time_tmp.join(general_data.set_index(\"EmployeeID\"), on=\"Unnamed: 0\")\n",
    "time_tmp[\"EmployeeID\"] = time_tmp[\"Unnamed: 0\"]\n",
    "time_tmp[\"StandardHours\"] = time_tmp[\"StandardHours\"] * 3600\n",
    "time_tmp[\"AttendanceScore\"] = 0\n",
    "\n",
    "for date in time_tmp.keys()[1:len(time.keys()[1:]) +1]:        \n",
    "    time_tmp[date] = time_tmp[date] - time_tmp[\"StandardHours\"]\n",
    "    time_tmp[date] = time_tmp[date].where(time_tmp[date] > 0, -1)\n",
    "    time_tmp[date] = time_tmp[date].where(time_tmp[date] < 0, 1)\n",
    "    time_tmp[\"AttendanceScore\"] = time_tmp[\"AttendanceScore\"] + time_tmp[date]"
   ]
  },
  {
   "cell_type": "markdown",
   "id": "62713753",
   "metadata": {},
   "source": [
    "Puis, la colonne *AttendanceScore* est fusionnée au dataset générale via la colonne *EmployeeID*."
   ]
  },
  {
   "cell_type": "code",
   "execution_count": 11,
   "id": "1f16d12c",
   "metadata": {},
   "outputs": [],
   "source": [
    "general_data_copy = pd.merge(general_data_copy,time_tmp[['EmployeeID', 'AttendanceScore']],on='EmployeeID', how='left')"
   ]
  },
  {
   "cell_type": "markdown",
   "id": "c91d44aa",
   "metadata": {},
   "source": [
    "## Suppression des colonnes\n",
    "### Éthique\n",
    "Pour s'assurer de l'éthique des données, il a été décidé de supprimer les colonnes non conformes à l'éthique selon notre jugement. Il a donc été décidé en comparant les recommandations de la Commission Européenne (voir le livrable éthique) de supprimer quatre colonnes : *Age*, *Over18*, *Gender*, *MaritalStatus*."
   ]
  },
  {
   "cell_type": "code",
   "execution_count": 12,
   "id": "8a7b2fc6",
   "metadata": {},
   "outputs": [],
   "source": [
    "general_data_copy.drop(\"Age\", axis=1, inplace=True) # Âge\n",
    "general_data_copy.drop(\"Over18\", axis=1, inplace=True) # Âge\n",
    "general_data_copy.drop(\"Gender\", axis=1, inplace=True) # Sexe\n",
    "general_data_copy.drop(\"MaritalStatus\", axis=1, inplace=True) # Statut marital"
   ]
  },
  {
   "cell_type": "markdown",
   "id": "7b351b34",
   "metadata": {},
   "source": [
    "### Autre\n",
    "Par la suite, deux autres colonnes ont été supprimées. La première colonne est *EmployeeCount* car il n’existe qu’une seule valeur pour l’ensemble des employés. Ceci implique que la variance de cette colonne est très faible ce qui peut provoquer des résultats faux et un algorithme n'étant pas robuste en cas de nouvelle valeur."
   ]
  },
  {
   "cell_type": "code",
   "execution_count": 13,
   "id": "02d7e2e9",
   "metadata": {},
   "outputs": [
    {
     "data": {
      "text/plain": [
       "1    4410\n",
       "Name: EmployeeCount, dtype: int64"
      ]
     },
     "execution_count": 13,
     "metadata": {},
     "output_type": "execute_result"
    }
   ],
   "source": [
    "general_data_copy.EmployeeCount.value_counts()"
   ]
  },
  {
   "cell_type": "markdown",
   "id": "3c5a391f",
   "metadata": {},
   "source": [
    "La seconde colonne est *StandardHours* (nombre journalier d'heures prévu dans le contrat pour chaque employé), parce qu'elle est elle-même liée à la colonne *AttendanceScore* que nous avons déjà calculée plus tôt."
   ]
  },
  {
   "cell_type": "code",
   "execution_count": 14,
   "id": "104ce4b8",
   "metadata": {},
   "outputs": [],
   "source": [
    "general_data_copy.drop(\"EmployeeCount\", axis=1, inplace=True)\n",
    "general_data_copy.drop(\"StandardHours\", axis=1, inplace=True)"
   ]
  },
  {
   "cell_type": "markdown",
   "id": "86ebfbdb",
   "metadata": {},
   "source": [
    "## Standardisation des données\n",
    "### Numérisation des types catégoriels\n",
    "La standardisation des données va permettre d'utiliser et de manipuler beaucoup plus facilement des données catégorielles. Ces mêmes catégories seront remplacées par des nombres chacun faisant référence à une catégorie bien spécifique. Tout d'abord, les valeurs de la colonne *Attrition* qui sont soit 'Yes', soit 'No', sont repectivement remplacées par les valeurs 1 et -1."
   ]
  },
  {
   "cell_type": "code",
   "execution_count": 15,
   "id": "31e6bf88",
   "metadata": {},
   "outputs": [],
   "source": [
    "general_data_copy[\"Attrition\"] = general_data_copy[\"Attrition\"].replace(to_replace=['No', 'Yes'], value=[-1, 1])"
   ]
  },
  {
   "cell_type": "markdown",
   "id": "cbbacae9",
   "metadata": {},
   "source": [
    "Pour réaliser cela, il est courant d'utiliser des encodeurs tels que l'[OrdinalEncoder](https://scikit-learn.org/stable/modules/generated/sklearn.preprocessing.OrdinalEncoder.html). Celui-ci permet notamment de transformer nos catégories en nombres numérotés automatiquement.\n",
    "\n",
    "Exemple : \"gauche\", \"droite\" et \"devant\" en 0, 1 et 2 respectivement."
   ]
  },
  {
   "cell_type": "code",
   "execution_count": 16,
   "id": "6f758611",
   "metadata": {},
   "outputs": [],
   "source": [
    "from sklearn.preprocessing import OrdinalEncoder\n",
    "ordinal_encoder = OrdinalEncoder()\n",
    "\n",
    "general_data_copy.EducationField = ordinal_encoder.fit_transform(general_data_copy[[\"EducationField\"]])\n",
    "general_data_copy.BusinessTravel = ordinal_encoder.fit_transform(general_data_copy[[\"BusinessTravel\"]])\n",
    "general_data_copy.Department = ordinal_encoder.fit_transform(general_data_copy[[\"Department\"]])\n",
    "general_data_copy.JobRole = ordinal_encoder.fit_transform(general_data_copy[[\"JobRole\"]])"
   ]
  },
  {
   "cell_type": "markdown",
   "id": "d1f11a09",
   "metadata": {},
   "source": [
    "### Transformation diverse des données\n",
    "La colonne *PercentSalaryHike* étant un pourcentage, celle-ci est réduite en divisant ses valeurs par 100, ce qui permet de créer une meilleure échelle de comparaison par rapport aux autres colonnes."
   ]
  },
  {
   "cell_type": "code",
   "execution_count": 17,
   "id": "15a4ba54",
   "metadata": {},
   "outputs": [],
   "source": [
    "general_data_copy[\"PercentSalaryHike\"] = general_data_copy[\"PercentSalaryHike\"] / 100"
   ]
  },
  {
   "cell_type": "markdown",
   "id": "4d3096a0",
   "metadata": {},
   "source": [
    "## Nettoyage des données"
   ]
  },
  {
   "cell_type": "markdown",
   "id": "79273c17",
   "metadata": {},
   "source": [
    "Puis les valeurs de type NaN (donnée vide) sont remplacé par 0."
   ]
  },
  {
   "cell_type": "code",
   "execution_count": 18,
   "id": "4c14a724",
   "metadata": {},
   "outputs": [],
   "source": [
    "general_data_copy = general_data_copy.fillna(0)"
   ]
  },
  {
   "cell_type": "markdown",
   "id": "0bb73c04",
   "metadata": {},
   "source": [
    "## Corrélation\n",
    "\n",
    "Maintenant que toutes les données sont mises en forme, des calculs de corrélations entre les colonnes sont implémentés. Le but étant de proposer un premier aperçu des raison possibles de ce turn-over qui sera confirmé à la fin de ce présent document.\n",
    "\n",
    "### Méthode aidant à la visualisation de la corrélation\n",
    "\n",
    " La fonction *retain_terminal* prend en paramètre un DataFrame et va appliquer un filtre afin de remplacer les valeurs comprises entre -0.1 et 0.1 par 0. Ceci va permettre de visualiser beaucoup plus facilement les colonnes les plus influentes (s'éloignant d'un score de corrélation de 0)."
   ]
  },
  {
   "cell_type": "code",
   "execution_count": 19,
   "id": "94240ef1",
   "metadata": {},
   "outputs": [],
   "source": [
    "def retain_terminal(frame):\n",
    "    for i in frame.keys():\n",
    "        for a in range(len(frame[i])):\n",
    "            if frame[i][a] > 0.1 or frame[i][a] < -0.1:\n",
    "                frame[i][a] = frame[i][a]\n",
    "            else:\n",
    "                frame[i][a] = 0\n",
    "    return frame"
   ]
  },
  {
   "cell_type": "markdown",
   "id": "bb85f44b",
   "metadata": {},
   "source": [
    "La fonction *separation_significant_parameters* vient en complément de la fonction précédente, celle-ci permet de séparer les paramètres considérés comme significatifs et qui n'auront donc pas été remplacés par 0 et les paramètres non significatifs qui auront été remplacés par 0."
   ]
  },
  {
   "cell_type": "code",
   "execution_count": 20,
   "id": "78df9d54",
   "metadata": {},
   "outputs": [],
   "source": [
    "def separation_significant_parameters(frame):\n",
    "    significient_parameter = []\n",
    "    insignificient_parameter = []\n",
    "    for i in frame.keys():\n",
    "        if frame[i].value_counts()[0] == len(frame[i]) - 1:\n",
    "            insignificient_parameter.append(i)\n",
    "        else:\n",
    "            significient_parameter.append(i)\n",
    "    return significient_parameter, insignificient_parameter"
   ]
  },
  {
   "cell_type": "markdown",
   "id": "083a895a",
   "metadata": {},
   "source": [
    "### Calculs et visualisation des corrélations\n",
    "Ensuite, l'ensemble des corrélations sont calculées avec la méthode [Pearson](http://www.biostat.ulg.ac.be/pages/Site_r/corr_pearson.html)."
   ]
  },
  {
   "cell_type": "code",
   "execution_count": 21,
   "id": "07fc9864",
   "metadata": {},
   "outputs": [],
   "source": [
    "corr_data = general_data_copy.corr()"
   ]
  },
  {
   "cell_type": "markdown",
   "id": "afa707ef",
   "metadata": {},
   "source": [
    "Le filtre précédemment défini est appliqué afin de supprimer le bruit (valeur entre -0.1 et 0.1) pour mieux visualiser les corrélations fortes."
   ]
  },
  {
   "cell_type": "code",
   "execution_count": 22,
   "id": "a7ee36f4",
   "metadata": {},
   "outputs": [],
   "source": [
    "corr_data = retain_terminal(corr_data)"
   ]
  },
  {
   "cell_type": "markdown",
   "id": "f99df4a6",
   "metadata": {},
   "source": [
    "Une fois que les corrélations ont été calculées, une visualisation est créée à l'aide d'une [HeatMap](https://seaborn.pydata.org/generated/seaborn.heatmap.html). Une HeatMap permet d'afficher des résultats avec différentes couleurs en fonction de la valeur de ce résultat et permet également d'afficher une annotation pour vérifier le score de corrélation."
   ]
  },
  {
   "cell_type": "code",
   "execution_count": 23,
   "id": "135224f6",
   "metadata": {},
   "outputs": [
    {
     "data": {
      "image/png": "[encoded data removed]",
      "text/plain": [
       "<Figure size 1440x1296 with 2 Axes>"
      ]
     },
     "metadata": {
      "needs_background": "light"
     },
     "output_type": "display_data"
    }
   ],
   "source": [
    "plt.figure(figsize=(20,18))\n",
    "sns.heatmap(corr_data, annot = True, cmap=plt.get_cmap(\"jet\"))\n",
    "save_fig(\"./outputs/heatmap_correlation_pearson-jet\")"
   ]
  },
  {
   "cell_type": "markdown",
   "id": "b700d936",
   "metadata": {},
   "source": [
    "Sur la HeatMap, certaines colonnes peuvent d'ores et déjà être enlevées, car elles ne sont pas corrélées entre-elles. Les colonnes supprimées seront donc les suivantes :\n",
    "- BusinessTravel,\n",
    "- Department,\n",
    "- DistanceFromHome,\n",
    "- Education,\n",
    "- EducationField,\n",
    "- EmployeeID,\n",
    "- JobLevel,\n",
    "- JobRole,\n",
    "- MonthlyIncome,\n",
    "- StockOptionLevel,\n",
    "- TrainingTimesLastYear,\n",
    "- JobSatisfaction,\n",
    "- WorkLifeBalance,\n",
    "- JobInvolvement.\n",
    "\n",
    "Le but est de ne pas fournir trop de paramètres différents et non pertinents à notre algorithme afin d'obtenir des resultats fiables et un modèle prédictif performant.\n",
    "\n",
    "La méthode *separation_significant_parameters* est maintenant utilisée afin de retourner les paramètres significatifs et insignifiants dans deux [tuples](https://courspython.com/tuple.html) différents. Les paramètres insignifiants sont identiques à ceux retournés par la méthode."
   ]
  },
  {
   "cell_type": "code",
   "execution_count": 24,
   "id": "d62e5ed1",
   "metadata": {},
   "outputs": [
    {
     "data": {
      "text/plain": [
       "['BusinessTravel',\n",
       " 'Department',\n",
       " 'DistanceFromHome',\n",
       " 'Education',\n",
       " 'EducationField',\n",
       " 'EmployeeID',\n",
       " 'JobLevel',\n",
       " 'JobRole',\n",
       " 'MonthlyIncome',\n",
       " 'StockOptionLevel',\n",
       " 'TrainingTimesLastYear',\n",
       " 'JobSatisfaction',\n",
       " 'WorkLifeBalance',\n",
       " 'JobInvolvement']"
      ]
     },
     "execution_count": 24,
     "metadata": {},
     "output_type": "execute_result"
    }
   ],
   "source": [
    "significant_parameter, insignificant_parameter = separation_significant_parameters(corr_data)\n",
    "insignificant_parameter"
   ]
  },
  {
   "cell_type": "markdown",
   "id": "beac6559",
   "metadata": {},
   "source": [
    "Une nouvelle HeatMap avec uniquement les corrélations les plus fortes est générée avec le même traitement que le précédent."
   ]
  },
  {
   "cell_type": "code",
   "execution_count": 25,
   "id": "bd6c60a5",
   "metadata": {},
   "outputs": [
    {
     "data": {
      "image/png": "[encoded data removed]",
      "text/plain": [
       "<Figure size 1440x1296 with 2 Axes>"
      ]
     },
     "metadata": {
      "needs_background": "light"
     },
     "output_type": "display_data"
    }
   ],
   "source": [
    "corr_tmp = general_data_copy[significant_parameter].corr()\n",
    "corr_tmp = retain_terminal(corr_tmp)\n",
    "\n",
    "plt.figure(figsize=(20,18))\n",
    "sns.heatmap(corr_tmp, annot = True, cmap=plt.get_cmap(\"jet\"))#, mask=np.triu(np.ones_like(corr_tmp, dtype=bool)))\n",
    "save_fig(\"./outputs/heatmap_correlation_pearson-jet-without-columne\")"
   ]
  },
  {
   "cell_type": "markdown",
   "id": "b9e48d7d",
   "metadata": {},
   "source": [
    "Enfin, le jeu de données est donc modifié une dernière fois pour ne garder que les valeurs de la colonne *Attrition* dont la corrélation est différente de 0."
   ]
  },
  {
   "cell_type": "code",
   "execution_count": 26,
   "id": "b81d1795",
   "metadata": {},
   "outputs": [
    {
     "data": {
      "text/html": [
       "<div>\n",
       "<style scoped>\n",
       "    .dataframe tbody tr th:only-of-type {\n",
       "        vertical-align: middle;\n",
       "    }\n",
       "\n",
       "    .dataframe tbody tr th {\n",
       "        vertical-align: top;\n",
       "    }\n",
       "\n",
       "    .dataframe thead th {\n",
       "        text-align: right;\n",
       "    }\n",
       "</style>\n",
       "<table border=\"1\" class=\"dataframe\">\n",
       "  <thead>\n",
       "    <tr style=\"text-align: right;\">\n",
       "      <th></th>\n",
       "      <th>Attrition</th>\n",
       "      <th>TotalWorkingYears</th>\n",
       "      <th>YearsAtCompany</th>\n",
       "      <th>YearsWithCurrManager</th>\n",
       "      <th>EnvironmentSatisfaction</th>\n",
       "      <th>AttendanceScore</th>\n",
       "    </tr>\n",
       "  </thead>\n",
       "  <tbody>\n",
       "    <tr>\n",
       "      <th>0</th>\n",
       "      <td>-1</td>\n",
       "      <td>1.0</td>\n",
       "      <td>1</td>\n",
       "      <td>0</td>\n",
       "      <td>3.0</td>\n",
       "      <td>-249</td>\n",
       "    </tr>\n",
       "    <tr>\n",
       "      <th>1</th>\n",
       "      <td>1</td>\n",
       "      <td>6.0</td>\n",
       "      <td>5</td>\n",
       "      <td>4</td>\n",
       "      <td>3.0</td>\n",
       "      <td>-165</td>\n",
       "    </tr>\n",
       "    <tr>\n",
       "      <th>2</th>\n",
       "      <td>-1</td>\n",
       "      <td>5.0</td>\n",
       "      <td>5</td>\n",
       "      <td>3</td>\n",
       "      <td>2.0</td>\n",
       "      <td>-249</td>\n",
       "    </tr>\n",
       "    <tr>\n",
       "      <th>3</th>\n",
       "      <td>-1</td>\n",
       "      <td>13.0</td>\n",
       "      <td>8</td>\n",
       "      <td>5</td>\n",
       "      <td>4.0</td>\n",
       "      <td>-249</td>\n",
       "    </tr>\n",
       "    <tr>\n",
       "      <th>4</th>\n",
       "      <td>-1</td>\n",
       "      <td>9.0</td>\n",
       "      <td>6</td>\n",
       "      <td>4</td>\n",
       "      <td>4.0</td>\n",
       "      <td>-19</td>\n",
       "    </tr>\n",
       "    <tr>\n",
       "      <th>...</th>\n",
       "      <td>...</td>\n",
       "      <td>...</td>\n",
       "      <td>...</td>\n",
       "      <td>...</td>\n",
       "      <td>...</td>\n",
       "      <td>...</td>\n",
       "    </tr>\n",
       "    <tr>\n",
       "      <th>4405</th>\n",
       "      <td>-1</td>\n",
       "      <td>10.0</td>\n",
       "      <td>3</td>\n",
       "      <td>2</td>\n",
       "      <td>4.0</td>\n",
       "      <td>225</td>\n",
       "    </tr>\n",
       "    <tr>\n",
       "      <th>4406</th>\n",
       "      <td>-1</td>\n",
       "      <td>10.0</td>\n",
       "      <td>3</td>\n",
       "      <td>2</td>\n",
       "      <td>4.0</td>\n",
       "      <td>-249</td>\n",
       "    </tr>\n",
       "    <tr>\n",
       "      <th>4407</th>\n",
       "      <td>-1</td>\n",
       "      <td>5.0</td>\n",
       "      <td>4</td>\n",
       "      <td>2</td>\n",
       "      <td>1.0</td>\n",
       "      <td>-167</td>\n",
       "    </tr>\n",
       "    <tr>\n",
       "      <th>4408</th>\n",
       "      <td>-1</td>\n",
       "      <td>10.0</td>\n",
       "      <td>9</td>\n",
       "      <td>8</td>\n",
       "      <td>4.0</td>\n",
       "      <td>233</td>\n",
       "    </tr>\n",
       "    <tr>\n",
       "      <th>4409</th>\n",
       "      <td>-1</td>\n",
       "      <td>0.0</td>\n",
       "      <td>21</td>\n",
       "      <td>9</td>\n",
       "      <td>1.0</td>\n",
       "      <td>-249</td>\n",
       "    </tr>\n",
       "  </tbody>\n",
       "</table>\n",
       "<p>4410 rows × 6 columns</p>\n",
       "</div>"
      ],
      "text/plain": [
       "      Attrition  TotalWorkingYears  YearsAtCompany  YearsWithCurrManager  \\\n",
       "0            -1                1.0               1                     0   \n",
       "1             1                6.0               5                     4   \n",
       "2            -1                5.0               5                     3   \n",
       "3            -1               13.0               8                     5   \n",
       "4            -1                9.0               6                     4   \n",
       "...         ...                ...             ...                   ...   \n",
       "4405         -1               10.0               3                     2   \n",
       "4406         -1               10.0               3                     2   \n",
       "4407         -1                5.0               4                     2   \n",
       "4408         -1               10.0               9                     8   \n",
       "4409         -1                0.0              21                     9   \n",
       "\n",
       "      EnvironmentSatisfaction  AttendanceScore  \n",
       "0                         3.0             -249  \n",
       "1                         3.0             -165  \n",
       "2                         2.0             -249  \n",
       "3                         4.0             -249  \n",
       "4                         4.0              -19  \n",
       "...                       ...              ...  \n",
       "4405                      4.0              225  \n",
       "4406                      4.0             -249  \n",
       "4407                      1.0             -167  \n",
       "4408                      4.0              233  \n",
       "4409                      1.0             -249  \n",
       "\n",
       "[4410 rows x 6 columns]"
      ]
     },
     "execution_count": 26,
     "metadata": {},
     "output_type": "execute_result"
    }
   ],
   "source": [
    "general_data_copy = general_data_copy[corr_tmp.Attrition[corr_tmp.Attrition != 0].keys()]\n",
    "general_data_copy"
   ]
  },
  {
   "cell_type": "markdown",
   "id": "bebbc65b",
   "metadata": {},
   "source": [
    "## Création de la pipeline de préparation\n",
    "L’objectif de cette partie était de transformer les données et les DataFrames dans le but d’avoir un jeu de données préparé et utilisable. Ces classes reprennent les étapes décrites précédemment. Ce regroupement (pipeline) permettra de faire appel beaucoup plus facilement à ces opérations de transformation des données. Ceci est notamment utile lors de l'importation d'un jeu de données avec des colonnes identiques mais des données différentes qui doivent, elles aussi, être préparées pour une exploitation future."
   ]
  },
  {
   "cell_type": "code",
   "execution_count": 27,
   "id": "695b41c9",
   "metadata": {},
   "outputs": [],
   "source": [
    "from sklearn.base import BaseEstimator, TransformerMixin\n",
    "import numpy as np\n",
    "\n",
    "class mergeDataFrame(BaseEstimator, TransformerMixin):\n",
    "    def __init__(self, employee_survey_data, manager_survey_data, in_time, out_time):\n",
    "        self.employee_survey_data = employee_survey_data\n",
    "        self.manager_survey_data = manager_survey_data\n",
    "        \n",
    "        self.in_time= in_time.dropna(axis=1, how='all').fillna(0)\n",
    "        self.out_time = out_time.dropna(axis=1, how='all').fillna(0)\n",
    "        \n",
    "        for col in self.in_time.keys()[1:]:\n",
    "            self.in_time[col] = pd.to_datetime(self.in_time[col]).values.astype(np.int64) // 10 ** 9\n",
    "        self.in_time = self.in_time.sort_values(by=\"Unnamed: 0\", ascending=True)\n",
    "        \n",
    "        for col in self.out_time.keys()[1:]:\n",
    "            self.out_time[col] = pd.to_datetime(self.out_time[col]).values.astype(np.int64) // 10 ** 9\n",
    "        self.out_time[\"Unnamed: 0\"] = self.out_time[\"Unnamed: 0\"] + self.out_time[\"Unnamed: 0\"]\n",
    "        self.out_time = self.out_time.sort_values(by=\"Unnamed: 0\", ascending=True)\n",
    "        \n",
    "    def fit(self, X, y=None):\n",
    "        return self\n",
    "    \n",
    "    def transform(self, X, y=None):\n",
    "        X = X.join(self.employee_survey_data.set_index(\"EmployeeID\"), on=\"EmployeeID\")\n",
    "        X = X.join(self.manager_survey_data.set_index(\"EmployeeID\"), on=\"EmployeeID\")\n",
    "        \n",
    "        time = self.out_time.subtract(self.in_time, axis=1)\n",
    "        \n",
    "        time_tmp = time.copy()\n",
    "        time_tmp = time_tmp.join(X.set_index(\"EmployeeID\"), on=\"Unnamed: 0\")\n",
    "        time_tmp = time_tmp.rename(columns={\"Unnamed: 0\": \"EmployeeID\"})\n",
    "        time_tmp[\"StandardHours\"] = time_tmp[\"StandardHours\"] * 3600\n",
    "        time_tmp[\"AttendanceScore\"] = 0\n",
    "        \n",
    "        for date in time_tmp.keys()[1:len(time.keys()[1:]) +1]:        \n",
    "            time_tmp[date] = time_tmp[date] - time_tmp[\"StandardHours\"]\n",
    "            time_tmp[date] = time_tmp[date].where(time_tmp[date] > 0, -1)\n",
    "            time_tmp[date] = time_tmp[date].where(time_tmp[date] < 0, 1)\n",
    "            time_tmp[\"AttendanceScore\"] = time_tmp[\"AttendanceScore\"] + time_tmp[date]\n",
    "        \n",
    "        X = pd.merge(X, time_tmp[['EmployeeID', 'AttendanceScore']], on='EmployeeID', how='left')\n",
    "        \n",
    "        return X"
   ]
  },
  {
   "cell_type": "code",
   "execution_count": 28,
   "id": "7baf0e75",
   "metadata": {},
   "outputs": [],
   "source": [
    "class deleteEthicColumn(BaseEstimator, TransformerMixin):\n",
    "    def __init__(self, array):\n",
    "        self.array = array\n",
    "        \n",
    "    def fit(self, X, y=None):\n",
    "        return self\n",
    "    \n",
    "    def transform(self, X, y=None):\n",
    "        for i in self.array:\n",
    "            X.drop(i, axis=1, inplace=True)\n",
    "        return X"
   ]
  },
  {
   "cell_type": "code",
   "execution_count": 29,
   "id": "073b358b",
   "metadata": {},
   "outputs": [],
   "source": [
    "from sklearn.preprocessing import OrdinalEncoder\n",
    "\n",
    "class convertDataFrame(BaseEstimator, TransformerMixin):\n",
    "    def fit(self, X, y=None):\n",
    "        return self\n",
    "    \n",
    "    def transform(self, X, y=None):\n",
    "        X[\"Attrition\"] = X[\"Attrition\"].replace(to_replace=['No', 'Yes'], value=[-1, 1])\n",
    "        ordinal_encoder = OrdinalEncoder()\n",
    "        for i in X.select_dtypes(include=[\"object\"]).keys():\n",
    "            X[i] = ordinal_encoder.fit_transform(X[[i]])\n",
    "        return X"
   ]
  },
  {
   "cell_type": "code",
   "execution_count": 30,
   "id": "b5d08185",
   "metadata": {},
   "outputs": [],
   "source": [
    "class cleaningDataFrame(BaseEstimator, TransformerMixin):\n",
    "    def fit(self, X, y=None):\n",
    "        return self\n",
    "    \n",
    "    def transform(self, X, y=None):\n",
    "        X.PercentSalaryHike = X.PercentSalaryHike / 100\n",
    "        X = X.fillna(0)\n",
    "        return X"
   ]
  },
  {
   "cell_type": "code",
   "execution_count": 31,
   "id": "c0c42153",
   "metadata": {},
   "outputs": [],
   "source": [
    "class corrDataFrame(BaseEstimator, TransformerMixin):\n",
    "    def fit(self, X, y=None):\n",
    "        return self\n",
    "    \n",
    "    def transform(self, X, y=None):\n",
    "        corr_x = self.retain_terminal(X.corr())\n",
    "        significient_parameter, insignificient_parameter = self.separation_significant_parameters(corr_x)\n",
    "        \n",
    "        corr_tmp = X[significant_parameter].corr()\n",
    "        corr_tmp = retain_terminal(corr_tmp)\n",
    "                        \n",
    "        return X[corr_tmp.Attrition[corr_tmp.Attrition != 0].keys()]\n",
    "        \n",
    "    def retain_terminal(self, frame):\n",
    "        for i in frame.keys():\n",
    "            for a in range(len(frame[i])):\n",
    "                if frame[i][a] > 0.1 or frame[i][a] < -0.1:\n",
    "                    frame[i][a] = frame[i][a]\n",
    "                else:\n",
    "                    frame[i][a] = 0\n",
    "        return frame\n",
    "    \n",
    "    def separation_significant_parameters(self, frame):\n",
    "        significient_parameter = []\n",
    "        insignificient_parameter = []\n",
    "        for i in frame.keys():\n",
    "            if frame[i].value_counts()[0] == len(frame[i]) - 1:\n",
    "                insignificient_parameter.append(i)\n",
    "            else:\n",
    "                significient_parameter.append(i)\n",
    "        return significient_parameter, insignificient_parameter"
   ]
  },
  {
   "cell_type": "markdown",
   "id": "0c324e61",
   "metadata": {},
   "source": [
    "Le code suivant décrit toutes les étapes que le pipeline exécutera pour obtenir le datasets complet et final."
   ]
  },
  {
   "cell_type": "code",
   "execution_count": 32,
   "id": "903818b4",
   "metadata": {},
   "outputs": [],
   "source": [
    "from sklearn.pipeline import Pipeline\n",
    "\n",
    "pipeline = Pipeline([\n",
    "    (\"merge\", mergeDataFrame(load_data(path +\"employee_survey_data.csv\"),\n",
    "                             load_data(path +\"manager_survey_data.csv\"),\n",
    "                             load_data(path +\"in_time.csv\"),\n",
    "                             load_data(path +\"out_time.csv\"))),\n",
    "    (\"delete\", deleteEthicColumn([\n",
    "        \"Age\",\n",
    "        \"Over18\",\n",
    "        \"Gender\",\n",
    "        \"MaritalStatus\",\n",
    "        \"EmployeeCount\",\n",
    "        \"StandardHours\"\n",
    "    ])),\n",
    "    (\"convert\", convertDataFrame()),\n",
    "    (\"clean\", cleaningDataFrame()),\n",
    "    (\"corr\", corrDataFrame())\n",
    "])"
   ]
  },
  {
   "cell_type": "markdown",
   "id": "391c5f75",
   "metadata": {},
   "source": [
    "Le pipeline est exécuté, puis le résultat est séparé en deux variables, la première *X* sont les paramètres donnés en entrée des modèles et le deuxième *y* le résultat attendu en sorti du modèle. Ces valeurs sont ensuite affichées."
   ]
  },
  {
   "cell_type": "code",
   "execution_count": 33,
   "id": "a12e52a0",
   "metadata": {},
   "outputs": [
    {
     "data": {
      "text/html": [
       "<div>\n",
       "<style scoped>\n",
       "    .dataframe tbody tr th:only-of-type {\n",
       "        vertical-align: middle;\n",
       "    }\n",
       "\n",
       "    .dataframe tbody tr th {\n",
       "        vertical-align: top;\n",
       "    }\n",
       "\n",
       "    .dataframe thead th {\n",
       "        text-align: right;\n",
       "    }\n",
       "</style>\n",
       "<table border=\"1\" class=\"dataframe\">\n",
       "  <thead>\n",
       "    <tr style=\"text-align: right;\">\n",
       "      <th></th>\n",
       "      <th>TotalWorkingYears</th>\n",
       "      <th>YearsAtCompany</th>\n",
       "      <th>YearsWithCurrManager</th>\n",
       "      <th>EnvironmentSatisfaction</th>\n",
       "      <th>AttendanceScore</th>\n",
       "    </tr>\n",
       "  </thead>\n",
       "  <tbody>\n",
       "    <tr>\n",
       "      <th>0</th>\n",
       "      <td>1.0</td>\n",
       "      <td>1</td>\n",
       "      <td>0</td>\n",
       "      <td>3.0</td>\n",
       "      <td>-249</td>\n",
       "    </tr>\n",
       "    <tr>\n",
       "      <th>1</th>\n",
       "      <td>6.0</td>\n",
       "      <td>5</td>\n",
       "      <td>4</td>\n",
       "      <td>3.0</td>\n",
       "      <td>-165</td>\n",
       "    </tr>\n",
       "    <tr>\n",
       "      <th>2</th>\n",
       "      <td>5.0</td>\n",
       "      <td>5</td>\n",
       "      <td>3</td>\n",
       "      <td>2.0</td>\n",
       "      <td>-249</td>\n",
       "    </tr>\n",
       "    <tr>\n",
       "      <th>3</th>\n",
       "      <td>13.0</td>\n",
       "      <td>8</td>\n",
       "      <td>5</td>\n",
       "      <td>4.0</td>\n",
       "      <td>-249</td>\n",
       "    </tr>\n",
       "    <tr>\n",
       "      <th>4</th>\n",
       "      <td>9.0</td>\n",
       "      <td>6</td>\n",
       "      <td>4</td>\n",
       "      <td>4.0</td>\n",
       "      <td>-19</td>\n",
       "    </tr>\n",
       "    <tr>\n",
       "      <th>...</th>\n",
       "      <td>...</td>\n",
       "      <td>...</td>\n",
       "      <td>...</td>\n",
       "      <td>...</td>\n",
       "      <td>...</td>\n",
       "    </tr>\n",
       "    <tr>\n",
       "      <th>4405</th>\n",
       "      <td>10.0</td>\n",
       "      <td>3</td>\n",
       "      <td>2</td>\n",
       "      <td>4.0</td>\n",
       "      <td>225</td>\n",
       "    </tr>\n",
       "    <tr>\n",
       "      <th>4406</th>\n",
       "      <td>10.0</td>\n",
       "      <td>3</td>\n",
       "      <td>2</td>\n",
       "      <td>4.0</td>\n",
       "      <td>-249</td>\n",
       "    </tr>\n",
       "    <tr>\n",
       "      <th>4407</th>\n",
       "      <td>5.0</td>\n",
       "      <td>4</td>\n",
       "      <td>2</td>\n",
       "      <td>1.0</td>\n",
       "      <td>-167</td>\n",
       "    </tr>\n",
       "    <tr>\n",
       "      <th>4408</th>\n",
       "      <td>10.0</td>\n",
       "      <td>9</td>\n",
       "      <td>8</td>\n",
       "      <td>4.0</td>\n",
       "      <td>233</td>\n",
       "    </tr>\n",
       "    <tr>\n",
       "      <th>4409</th>\n",
       "      <td>0.0</td>\n",
       "      <td>21</td>\n",
       "      <td>9</td>\n",
       "      <td>1.0</td>\n",
       "      <td>-249</td>\n",
       "    </tr>\n",
       "  </tbody>\n",
       "</table>\n",
       "<p>4410 rows × 5 columns</p>\n",
       "</div>"
      ],
      "text/plain": [
       "      TotalWorkingYears  YearsAtCompany  YearsWithCurrManager  \\\n",
       "0                   1.0               1                     0   \n",
       "1                   6.0               5                     4   \n",
       "2                   5.0               5                     3   \n",
       "3                  13.0               8                     5   \n",
       "4                   9.0               6                     4   \n",
       "...                 ...             ...                   ...   \n",
       "4405               10.0               3                     2   \n",
       "4406               10.0               3                     2   \n",
       "4407                5.0               4                     2   \n",
       "4408               10.0               9                     8   \n",
       "4409                0.0              21                     9   \n",
       "\n",
       "      EnvironmentSatisfaction  AttendanceScore  \n",
       "0                         3.0             -249  \n",
       "1                         3.0             -165  \n",
       "2                         2.0             -249  \n",
       "3                         4.0             -249  \n",
       "4                         4.0              -19  \n",
       "...                       ...              ...  \n",
       "4405                      4.0              225  \n",
       "4406                      4.0             -249  \n",
       "4407                      1.0             -167  \n",
       "4408                      4.0              233  \n",
       "4409                      1.0             -249  \n",
       "\n",
       "[4410 rows x 5 columns]"
      ]
     },
     "execution_count": 33,
     "metadata": {},
     "output_type": "execute_result"
    }
   ],
   "source": [
    "dataset = pipeline.fit_transform(\n",
    "    load_data(path +\"general_data.csv\")\n",
    ")\n",
    "    \n",
    "labels = dataset.keys().to_list()\n",
    "labels.remove('Attrition')\n",
    "    \n",
    "X = dataset[labels]\n",
    "y = dataset['Attrition']\n",
    "X"
   ]
  },
  {
   "cell_type": "code",
   "execution_count": 34,
   "id": "861d6af3",
   "metadata": {},
   "outputs": [
    {
     "data": {
      "text/plain": [
       "0      -1\n",
       "1       1\n",
       "2      -1\n",
       "3      -1\n",
       "4      -1\n",
       "       ..\n",
       "4405   -1\n",
       "4406   -1\n",
       "4407   -1\n",
       "4408   -1\n",
       "4409   -1\n",
       "Name: Attrition, Length: 4410, dtype: int64"
      ]
     },
     "execution_count": 34,
     "metadata": {},
     "output_type": "execute_result"
    }
   ],
   "source": [
    "# Target\n",
    "y"
   ]
  },
  {
   "cell_type": "markdown",
   "id": "1d871415",
   "metadata": {},
   "source": [
    "# Étape n°2 - Explication des indicateurs\n"
   ]
  },
  {
   "cell_type": "markdown",
   "id": "c768dd08",
   "metadata": {},
   "source": [
    "Les indicateurs que nous utiliserons afin de vérifier les performances de notre modèle final sont présentés dans cette partie. Ces notions sont cruciales à comprendre et constituent ici une introduction à l'exploitation et l'interprétation finale de l'étude.\n",
    "Il est à noter que les fonctions utilisent à la fois la bibliothèque [scikit-learn](https://scikit-learn.org/stable/) (sklearn) mais également des fonctions réalisées sans l'utilisation de bibliothèque spécifique afin de vérifier nos résultats et la bonne compréhension des métriques."
   ]
  },
  {
   "cell_type": "markdown",
   "id": "78189596",
   "metadata": {},
   "source": [
    "## Définition\n",
    "\n",
    "En Machine Learning, la bonne manière de procéder consiste à se baser sur des indicateurs mathématiques précis et concrets ouvrant la porte aux interprétations humaines. Généralement dans ce type de problèmes de classification, des indicateurs tels que des métriques de performance ou encore des courbes de comparaisons sont très utilisés.\n",
    "\n",
    "Chaque indicateur de cette partie sera donc accompagnée d'une rapide description ainsi qu'une explication sur son utilisation et sur le résultat obtenu dans notre contexte.\n",
    "\n",
    "![](https://encrypted-tbn0.gstatic.com/images?q=tbn:ANd9GcRaefwz7ZSNyFZeO8Urtnjj58MgDKFzRV5aE0WNoXNn6ejBy3ZvVDwQVL8N081CpvTfOJY&usqp=CAU)\n",
    "\n",
    "## Données de test"
   ]
  },
  {
   "cell_type": "markdown",
   "id": "5425af7a",
   "metadata": {},
   "source": [
    "Afin de se concentrer uniquement sur la bonne compréhension des indicateurs, des résultats de modèles ont été crées et seront utilisés dans les prochains calculs : "
   ]
  },
  {
   "cell_type": "code",
   "execution_count": 35,
   "id": "5427c61b",
   "metadata": {},
   "outputs": [],
   "source": [
    "virtual_resultat = [1, 1, 1, 1, -1, -1, -1, -1, -1, 1]\n",
    "virtual_prediction = [1, 1, 1, 1, 1, 1, 1, -1, -1, -1]"
   ]
  },
  {
   "cell_type": "markdown",
   "id": "a0c4395b",
   "metadata": {},
   "source": [
    "## Matrice de confusion\n",
    "\n",
    "La matrice est de confusion est aujourd'hui l'un des outils les plus utilisés pour évaluer les performances d'un modèle de classification. Celle-ci présente un système de classes associées chacune à une valeur de représentation de cette classe suite à l'entrainement avec un modèle de prédictions. Il est à noter que ce type de matrice fonctionne aussi bien pour des problèmes de classification à 2 classes (binaires) ou plus.\n",
    "\n",
    "Veuillez trouver ci-dessous un exemple de matrice de prédiction binaire :\n",
    "![](https://docs.microsoft.com/fr-fr/dynamics365/finance/finance-insights/media/tn-fn.png)\n",
    "\n",
    "Comme présenté dans la figure, dans le cas binaire les classes sont : \n",
    "\n",
    "- ***TP*** : les valeurs prédites positives par le modèle et qui se trouvent être positives au final (bonne prédiction)\n",
    "- ***TN*** : les valeurs prédites positives par le modèle et qui se trouvent être négatives au final (mauvaise prédiction)\n",
    "- ***FP*** : les valeurs prédites négatives par le modèle et qui se trouvent être positives au final (mauvaise prédiction)\n",
    "- ***FN*** : les valeurs prédites négatives par le modèle et qui se trouvent être négatives au final (bonne prédiction)\n",
    "\n",
    "### Méthode \"sklearn\""
   ]
  },
  {
   "cell_type": "code",
   "execution_count": 36,
   "id": "ace57763",
   "metadata": {},
   "outputs": [
    {
     "data": {
      "text/plain": [
       "array([[2, 3],\n",
       "       [1, 4]], dtype=int64)"
      ]
     },
     "execution_count": 36,
     "metadata": {},
     "output_type": "execute_result"
    }
   ],
   "source": [
    "from sklearn.metrics import confusion_matrix\n",
    "\n",
    "confusion_matrix(virtual_resultat, virtual_prediction)"
   ]
  },
  {
   "cell_type": "markdown",
   "id": "64c08ec3",
   "metadata": {},
   "source": [
    "### Méthode \"homemade\""
   ]
  },
  {
   "cell_type": "code",
   "execution_count": 37,
   "id": "4053173c",
   "metadata": {},
   "outputs": [],
   "source": [
    "import numpy as np\n",
    "def homemade_confusion_matrix(y, predict):    \n",
    "    values_y = np.unique(y)[::-1]\n",
    "    \n",
    "    matrix = np.zeros((len(values_y), len(values_y)), dtype=int)\n",
    "    for i in range(len(y)):\n",
    "        matrix[np.where(values_y == y[i])[0][0]][np.where(values_y == predict[i])[0][0]] += 1\n",
    "    \n",
    "    return matrix"
   ]
  },
  {
   "cell_type": "code",
   "execution_count": 38,
   "id": "8d1b95e4",
   "metadata": {},
   "outputs": [
    {
     "data": {
      "text/plain": [
       "array([[4, 1],\n",
       "       [3, 2]])"
      ]
     },
     "execution_count": 38,
     "metadata": {},
     "output_type": "execute_result"
    }
   ],
   "source": [
    "homemade_confusion_matrix(virtual_resultat, virtual_prediction)"
   ]
  },
  {
   "cell_type": "markdown",
   "id": "4f70a680",
   "metadata": {},
   "source": [
    "La matrice de confusion retournée par le code n'utilisant pas de bibliothèque n'affiche pas les valeurs dans l'ordre de celui avec bibliothèque. Il a été choisi de conserver l'ordre de la figure ci-dessus pour les *TP, TN, FP, FN* à des fins de compréhension.\n",
    "Quoi qu'il en soit, les valeurs sont évidemment les mêmes et sont correctes."
   ]
  },
  {
   "cell_type": "markdown",
   "id": "98c81cd3",
   "metadata": {},
   "source": [
    "## Métriques de performance"
   ]
  },
  {
   "cell_type": "markdown",
   "id": "960f22e9",
   "metadata": {},
   "source": [
    "Une fois la matrice de confusion construite, les indicateurs peuvent maintenant se calculer. Ceux présentés dans cette partie sont ceux considérés comme les plus utiles pour l'étude et qui seront abordés dans la dernière partie."
   ]
  },
  {
   "cell_type": "markdown",
   "id": "6321a7ef",
   "metadata": {},
   "source": [
    "### Sensibilité, Recall, TPR : True Positive Rate\n",
    "Cette métrique de performance représente le pourcentage d'employés quittant l'entreprise et étant bien détectés comme partant l'entreprise.\n",
    "$$Recall = {{TP} \\over {TP \\, + \\, FN}}$$\n",
    "#### Méthode \"sklearn\""
   ]
  },
  {
   "cell_type": "code",
   "execution_count": 39,
   "id": "3722df71",
   "metadata": {},
   "outputs": [
    {
     "name": "stdout",
     "output_type": "stream",
     "text": [
      "0.8\n"
     ]
    }
   ],
   "source": [
    "from sklearn.metrics import recall_score\n",
    "\n",
    "recall = recall_score(virtual_resultat, virtual_prediction)\n",
    "print(recall)"
   ]
  },
  {
   "cell_type": "markdown",
   "id": "a9e31585",
   "metadata": {},
   "source": [
    "#### Méthode \"homemade\""
   ]
  },
  {
   "cell_type": "code",
   "execution_count": 40,
   "id": "6ddaa972",
   "metadata": {},
   "outputs": [],
   "source": [
    "def homemade_recall_score(y, prediction):\n",
    "    matrix = homemade_confusion_matrix(y, prediction)\n",
    "    return (matrix[0][0]) / (matrix[0][0] + matrix[0][1])"
   ]
  },
  {
   "cell_type": "code",
   "execution_count": 41,
   "id": "4f0153cf",
   "metadata": {},
   "outputs": [
    {
     "name": "stdout",
     "output_type": "stream",
     "text": [
      "0.8\n"
     ]
    }
   ],
   "source": [
    "recall = homemade_recall_score(virtual_resultat, virtual_prediction)\n",
    "print(recall)"
   ]
  },
  {
   "cell_type": "markdown",
   "id": "93f6b478",
   "metadata": {},
   "source": [
    "### Spécificité, TNR : True Negative Rate\n",
    "\n",
    "Cette métrique de performance représente le pourcentage d'employés restant dans l'entreprise et donc les employés étant bien détéctés comme restant l'entreprise.\n",
    "\n",
    "$$TNR = {{TN} \\over {TN \\, + \\, FP}}$$\n",
    "\n",
    "#### Méthode \"homemade\""
   ]
  },
  {
   "cell_type": "code",
   "execution_count": 42,
   "id": "f53dbb76",
   "metadata": {},
   "outputs": [],
   "source": [
    "def homemade_specificity_score(y, prediction):\n",
    "    matrix = homemade_confusion_matrix(y, prediction)\n",
    "    return (matrix[1][1]) / (matrix[1][1] + matrix[1][0])"
   ]
  },
  {
   "cell_type": "code",
   "execution_count": 43,
   "id": "e05ce0eb",
   "metadata": {},
   "outputs": [
    {
     "data": {
      "text/plain": [
       "0.4"
      ]
     },
     "execution_count": 43,
     "metadata": {},
     "output_type": "execute_result"
    }
   ],
   "source": [
    "homemade_specificity_score(virtual_resultat, virtual_prediction)"
   ]
  },
  {
   "cell_type": "markdown",
   "id": "248525a5",
   "metadata": {},
   "source": [
    "### Fall out, FPR : False Positive Rate\n",
    "\n",
    "Cette métrique de performance représente le pourcentage d'employés quittant l'entreprise, mais étant détectés comme restant dans l'entreprise.\n",
    "\n",
    "$$FPR = {{FP} \\over {TN \\, + \\, FP}}$$\n",
    "\n",
    "#### Méthode \"homemade\""
   ]
  },
  {
   "cell_type": "code",
   "execution_count": 44,
   "id": "71d445da",
   "metadata": {},
   "outputs": [],
   "source": [
    "def homemade_fpr_calculator(y, prediction):\n",
    "    matrix = homemade_confusion_matrix(y, prediction)\n",
    "    return (matrix[1][0]) / (matrix[1][0] + matrix[1][1])"
   ]
  },
  {
   "cell_type": "code",
   "execution_count": 45,
   "id": "1f8ffd4c",
   "metadata": {},
   "outputs": [
    {
     "name": "stdout",
     "output_type": "stream",
     "text": [
      "0.6\n"
     ]
    }
   ],
   "source": [
    "fpr = homemade_fpr_calculator(virtual_resultat, virtual_prediction)\n",
    "print(fpr)"
   ]
  },
  {
   "cell_type": "markdown",
   "id": "b8114ea5",
   "metadata": {},
   "source": [
    "### FNR : False negative Rate\n",
    "\n",
    "Cette métrique de performance représente le pourcentage d'employés restant dans l'entreprise, mais étant détectés comme quittant l'entreprise.\n",
    "\n",
    "$$FNR = {{FN} \\over {FN \\, + \\, TP}}$$\n",
    "\n",
    "#### Méthode \"homemade\""
   ]
  },
  {
   "cell_type": "code",
   "execution_count": 46,
   "id": "1d8a8427",
   "metadata": {},
   "outputs": [],
   "source": [
    "def homemade_fnr_calculator(y, prediction):\n",
    "    matrix = homemade_confusion_matrix(y, prediction)\n",
    "    return (matrix[0][1]) / (matrix[0][0] + matrix[0][1])"
   ]
  },
  {
   "cell_type": "code",
   "execution_count": 47,
   "id": "4b46e9a9",
   "metadata": {},
   "outputs": [
    {
     "data": {
      "text/plain": [
       "0.2"
      ]
     },
     "execution_count": 47,
     "metadata": {},
     "output_type": "execute_result"
    }
   ],
   "source": [
    "homemade_fnr_calculator(virtual_resultat, virtual_prediction)"
   ]
  },
  {
   "cell_type": "markdown",
   "id": "ea33f809",
   "metadata": {},
   "source": [
    "### Précision, PPV : Positive Preditive Value\n",
    "\n",
    "La valeur de prédiction positive représente le pourcentage de prédictions positives étant réellement correctes.\n",
    "\n",
    "$$Precision = {{TP} \\over {TP+FP}}$$\n",
    "\n",
    "#### Méthode \"sklearn\""
   ]
  },
  {
   "cell_type": "code",
   "execution_count": 48,
   "id": "cf1ed4ca",
   "metadata": {},
   "outputs": [
    {
     "name": "stdout",
     "output_type": "stream",
     "text": [
      "0.5714285714285714\n"
     ]
    }
   ],
   "source": [
    "from sklearn.metrics import precision_score\n",
    "\n",
    "precision = precision_score(virtual_resultat, virtual_prediction)\n",
    "print(precision)"
   ]
  },
  {
   "cell_type": "markdown",
   "id": "5fdc8fd1",
   "metadata": {},
   "source": [
    "#### Méthode \"homemade\""
   ]
  },
  {
   "cell_type": "code",
   "execution_count": 49,
   "id": "5c3a9c0a",
   "metadata": {},
   "outputs": [],
   "source": [
    "def homemade_precision_score(y, prediction):\n",
    "    matrix = homemade_confusion_matrix(y, prediction)\n",
    "    return (matrix[0][0]) / (matrix[0][0] + matrix[1][0])"
   ]
  },
  {
   "cell_type": "code",
   "execution_count": 50,
   "id": "0528c591",
   "metadata": {},
   "outputs": [
    {
     "data": {
      "text/plain": [
       "0.5714285714285714"
      ]
     },
     "execution_count": 50,
     "metadata": {},
     "output_type": "execute_result"
    }
   ],
   "source": [
    "homemade_precision_score(virtual_resultat, virtual_prediction)"
   ]
  },
  {
   "cell_type": "markdown",
   "id": "6d987128",
   "metadata": {},
   "source": [
    "### FDR : False Discovery Rate\n",
    "\n",
    "Le taux de fausses découvertes représente le pourcentage de prédictions positives étant incorrectes.\n",
    "\n",
    "$$FDR = 1-PPV{{FP} \\over {TP \\, + \\, FP}}$$\n",
    "\n",
    "#### Méthode \"homemade\""
   ]
  },
  {
   "cell_type": "code",
   "execution_count": 51,
   "id": "eb23c99d",
   "metadata": {},
   "outputs": [],
   "source": [
    "def homemade_fdr_calculator(y, prediction):\n",
    "    matrix = homemade_confusion_matrix(y, prediction)\n",
    "    return (matrix[1][0]) / (matrix[0][0] + matrix[1][0])"
   ]
  },
  {
   "cell_type": "code",
   "execution_count": 52,
   "id": "da995688",
   "metadata": {},
   "outputs": [
    {
     "data": {
      "text/plain": [
       "0.42857142857142855"
      ]
     },
     "execution_count": 52,
     "metadata": {},
     "output_type": "execute_result"
    }
   ],
   "source": [
    "homemade_fdr_calculator(virtual_resultat, virtual_prediction)"
   ]
  },
  {
   "cell_type": "markdown",
   "id": "cfde47ca",
   "metadata": {},
   "source": [
    "### NPV : Negative Predictive Value\n",
    "\n",
    "La valeur de prédiction négative représente le pourcentage de prédictions négatives étant réellement correctes.\n",
    "\n",
    "$$NPV = {{TN} \\over {TN \\, + \\, FN}}$$\n",
    "\n",
    "#### Méthode \"homemade\""
   ]
  },
  {
   "cell_type": "code",
   "execution_count": 53,
   "id": "8e1329be",
   "metadata": {},
   "outputs": [],
   "source": [
    "def homemade_npv_calculator(y, prediction):\n",
    "    matrix = homemade_confusion_matrix(y, prediction)\n",
    "    return (matrix[1][1]) / (matrix[1][1] + matrix[0][1])"
   ]
  },
  {
   "cell_type": "code",
   "execution_count": 54,
   "id": "9e05a383",
   "metadata": {},
   "outputs": [
    {
     "data": {
      "text/plain": [
       "0.6666666666666666"
      ]
     },
     "execution_count": 54,
     "metadata": {},
     "output_type": "execute_result"
    }
   ],
   "source": [
    "homemade_npv_calculator(virtual_resultat, virtual_prediction)"
   ]
  },
  {
   "cell_type": "markdown",
   "id": "0e7a922f",
   "metadata": {},
   "source": [
    "### FOR : False Omission Rate\n",
    "\n",
    "Le taux de fausses omissions représente le pourcentage de prédictions négatives étant incorrectes.\n",
    "\n",
    "$$FOR = 1-NPV{{FN} \\over {TN \\, + \\, FN}}$$\n",
    "\n",
    "#### Méthode \"homemade\""
   ]
  },
  {
   "cell_type": "code",
   "execution_count": 55,
   "id": "ec02aed9",
   "metadata": {},
   "outputs": [],
   "source": [
    "def homemade_for_calculator(y, prediction):\n",
    "    matrix = homemade_confusion_matrix(y, prediction)\n",
    "    return (matrix[0][1]) / (matrix[1][1] + matrix[0][1])"
   ]
  },
  {
   "cell_type": "code",
   "execution_count": 56,
   "id": "2e0230ba",
   "metadata": {},
   "outputs": [
    {
     "data": {
      "text/plain": [
       "0.3333333333333333"
      ]
     },
     "execution_count": 56,
     "metadata": {},
     "output_type": "execute_result"
    }
   ],
   "source": [
    "homemade_for_calculator(virtual_resultat, virtual_prediction)"
   ]
  },
  {
   "cell_type": "markdown",
   "id": "ac69b286",
   "metadata": {},
   "source": [
    "### Accuracy, ACC\n",
    "\n",
    "La justesse représente le pourcentage de prédictions correctes sur le total des prédictions.\n",
    "\n",
    "$$Accuracy = {{TP \\, + \\, TN} \\over {TP \\, + \\, TN \\, + \\, FP \\, + \\, FN}}$$\n",
    "\n",
    "#### Méthode \"sklearn\""
   ]
  },
  {
   "cell_type": "code",
   "execution_count": 57,
   "id": "00a74c3a",
   "metadata": {},
   "outputs": [
    {
     "data": {
      "text/plain": [
       "0.6"
      ]
     },
     "execution_count": 57,
     "metadata": {},
     "output_type": "execute_result"
    }
   ],
   "source": [
    "from sklearn.metrics import accuracy_score\n",
    "\n",
    "accuracy_score(virtual_resultat, virtual_prediction)"
   ]
  },
  {
   "cell_type": "markdown",
   "id": "47e0039a",
   "metadata": {},
   "source": [
    "#### Méthode \"homemade\""
   ]
  },
  {
   "cell_type": "code",
   "execution_count": 58,
   "id": "f1302cc4",
   "metadata": {},
   "outputs": [],
   "source": [
    "def homemade_accuracy_score(y, prediction):\n",
    "    matrix = homemade_confusion_matrix(y, prediction)\n",
    "    return (matrix[0][0] + matrix[1][1]) / (matrix[0][0] + matrix[0][1] + matrix[1][1] + matrix[1][0])"
   ]
  },
  {
   "cell_type": "code",
   "execution_count": 59,
   "id": "e88803a4",
   "metadata": {},
   "outputs": [
    {
     "data": {
      "text/plain": [
       "0.6"
      ]
     },
     "execution_count": 59,
     "metadata": {},
     "output_type": "execute_result"
    }
   ],
   "source": [
    "homemade_accuracy_score(virtual_resultat, virtual_prediction)"
   ]
  },
  {
   "cell_type": "markdown",
   "id": "8bf09e35",
   "metadata": {},
   "source": [
    "### F1-score\n",
    "Le score F1 représente une évaluation de la performance de l'algorithme. Ce score est la moyenne harmonique de la précision et du rappel (cf: image ci-dessous).\n",
    "\n",
    "Lorsque deux modèles ont une précision élevée et un faible rappel ou inversement, la comparaison peut être plus compliquée. C'est pourquoi, dans ce type de situation, il est préférable d'utiliser le score F1 car il permet de mesurer ces deux paramètres simultanément.\n",
    "\n",
    "$$F1-Score = 2 {{Precision \\, * \\, Recall} \\over {(Precision \\, + \\, Recall)}}$$\n",
    "\n",
    "#### Méthode \"sklearn\""
   ]
  },
  {
   "cell_type": "code",
   "execution_count": 60,
   "id": "eb3bf93d",
   "metadata": {},
   "outputs": [
    {
     "data": {
      "text/plain": [
       "0.6666666666666666"
      ]
     },
     "execution_count": 60,
     "metadata": {},
     "output_type": "execute_result"
    }
   ],
   "source": [
    "from sklearn.metrics import f1_score\n",
    "\n",
    "f1_score(virtual_resultat, virtual_prediction)"
   ]
  },
  {
   "cell_type": "markdown",
   "id": "1cd56ee4",
   "metadata": {},
   "source": [
    "#### Méthode \"homemade\""
   ]
  },
  {
   "cell_type": "code",
   "execution_count": 61,
   "id": "5eda0df0",
   "metadata": {},
   "outputs": [],
   "source": [
    "def homemade_f1_score(precision, recall):\n",
    "    return 2 * (precision * recall) / (precision + recall)"
   ]
  },
  {
   "cell_type": "code",
   "execution_count": 62,
   "id": "6818bab1",
   "metadata": {},
   "outputs": [
    {
     "data": {
      "text/plain": [
       "0.6666666666666666"
      ]
     },
     "execution_count": 62,
     "metadata": {},
     "output_type": "execute_result"
    }
   ],
   "source": [
    "homemade_f1_score(precision, recall)"
   ]
  },
  {
   "cell_type": "markdown",
   "id": "4b67af1d",
   "metadata": {},
   "source": [
    "### Courbe ROC\n",
    "\n",
    "La courbe ROC est un autre moyen d'évaluer un classifieur binaire. Elle confronte le taux de vrai positif (TPR ou recall) au taux de faux positif (FPR).\n",
    "\n",
    "#### Méthode \"sklearn\""
   ]
  },
  {
   "cell_type": "code",
   "execution_count": 63,
   "id": "9246c867",
   "metadata": {},
   "outputs": [],
   "source": [
    "from sklearn.metrics import roc_curve\n",
    "\n",
    "false_pos, true_pos, thresholds = roc_curve(virtual_resultat, virtual_prediction)"
   ]
  },
  {
   "cell_type": "code",
   "execution_count": 64,
   "id": "ed0b873b",
   "metadata": {},
   "outputs": [],
   "source": [
    "import matplotlib.pyplot as plt\n",
    "\n",
    "def plot_roc_curve(false_pos,true_pos, label=None):\n",
    "    plt.plot(false_pos, true_pos, linewidth=2, label=label)\n",
    "    plt.plot([0, 1], [0, 1], 'k--')\n",
    "    plt.axis([0, 1, 0, 1])\n",
    "    plt.xlabel('False Positive Rate', fontsize=16)\n",
    "    plt.ylabel('True Positive Rate', fontsize=16)"
   ]
  },
  {
   "cell_type": "code",
   "execution_count": 65,
   "id": "6784fe97",
   "metadata": {},
   "outputs": [
    {
     "data": {
      "image/png": "[encoded data removed]",
      "text/plain": [
       "<Figure size 432x288 with 1 Axes>"
      ]
     },
     "metadata": {
      "needs_background": "light"
     },
     "output_type": "display_data"
    }
   ],
   "source": [
    "plot_roc_curve(false_pos, true_pos)"
   ]
  },
  {
   "cell_type": "markdown",
   "id": "894297a1",
   "metadata": {},
   "source": [
    "#### Méthode \"homemade\""
   ]
  },
  {
   "cell_type": "code",
   "execution_count": 66,
   "id": "b905be1b",
   "metadata": {},
   "outputs": [],
   "source": [
    "def homemade_roc_curve(y, predictions):\n",
    "    thresholds = []\n",
    "\n",
    "    false_pos = [0]\n",
    "    true_pos = [0]\n",
    "\n",
    "    for threshold in np.arange(-2, 2, 0.1):\n",
    "        matrix = [0, 0, 0, 0]\n",
    "\n",
    "        predicted = 0\n",
    "        for j in range(0, len(predictions)):\n",
    "            if(predictions[j] < threshold):\n",
    "                predicted = -1\n",
    "            else:\n",
    "                predicted = 1\n",
    "\n",
    "            if(predicted == -1 and y[j] == -1):\n",
    "                matrix[0] += 1\n",
    "            elif(predicted == -1 and y[j] == 1):\n",
    "                matrix[1] += 1\n",
    "            elif(predicted == 1 and y[j] == -1):\n",
    "                matrix[2] += 1\n",
    "            elif(predicted == 1 and y[j] == 1):\n",
    "                matrix[3] += 1\n",
    "\n",
    "        tp = matrix[3]\n",
    "        fp = matrix[2]\n",
    "        tn = matrix[0]\n",
    "        fn = matrix[1]\n",
    "        \n",
    "        tpr = tp / (tp + fn) if tp + fn != 0 else 0\n",
    "        fpr = (fp / (fp + tn)) if fp + tn != 0 else 0\n",
    "\n",
    "        false_pos.append(fpr)\n",
    "        true_pos.append(tpr)\n",
    "        \n",
    "        thresholds.append(threshold)\n",
    "        \n",
    "    return false_pos, true_pos, thresholds"
   ]
  },
  {
   "cell_type": "code",
   "execution_count": 67,
   "id": "635b4a61",
   "metadata": {},
   "outputs": [
    {
     "data": {
      "image/png": "[encoded data removed]",
      "text/plain": [
       "<Figure size 432x288 with 1 Axes>"
      ]
     },
     "metadata": {
      "needs_background": "light"
     },
     "output_type": "display_data"
    }
   ],
   "source": [
    "false_pos, true_pos, thresholds = homemade_roc_curve(virtual_resultat, virtual_prediction)\n",
    "plot_roc_curve(false_pos, true_pos)"
   ]
  },
  {
   "cell_type": "markdown",
   "id": "4881e76e",
   "metadata": {},
   "source": [
    "### AUC\n",
    "\n",
    "Pour la courbe ROC, un grand taux de vrais positifs implique beaucoup de faux positifs. La diagonale en pointillée représente la courbe ROC d'un classificateur aléatoire. Un classificateur idéal s'en écarte au maximum dans le coin supérieur gauche.\n",
    "\n",
    "C'est pourquoi on utilise comme métrique de comparaison l'air sous la courbe ROC, nommé AUC, que l'on souhaite la plus proche possible de 1.\n",
    "\n",
    "#### Méthode \"sklearn\""
   ]
  },
  {
   "cell_type": "code",
   "execution_count": 68,
   "id": "b1fe76d9",
   "metadata": {},
   "outputs": [
    {
     "data": {
      "text/plain": [
       "0.6000000000000001"
      ]
     },
     "execution_count": 68,
     "metadata": {},
     "output_type": "execute_result"
    }
   ],
   "source": [
    "from sklearn.metrics import roc_auc_score\n",
    "\n",
    "roc_auc_score(virtual_resultat, virtual_prediction)"
   ]
  },
  {
   "cell_type": "markdown",
   "id": "2a8e776f",
   "metadata": {},
   "source": [
    "#### Méthode \"homemade\""
   ]
  },
  {
   "cell_type": "code",
   "execution_count": 69,
   "id": "9f8c054a",
   "metadata": {},
   "outputs": [],
   "source": [
    "def homemade_auc_score(y, predictions):\n",
    "    false_pos, true_pos, thresholds = homemade_roc_curve(y, predictions)\n",
    "    return np.trapz(false_pos, true_pos) + 0.5"
   ]
  },
  {
   "cell_type": "code",
   "execution_count": 70,
   "id": "441b2638",
   "metadata": {},
   "outputs": [
    {
     "data": {
      "text/plain": [
       "0.6000000000000001"
      ]
     },
     "execution_count": 70,
     "metadata": {},
     "output_type": "execute_result"
    }
   ],
   "source": [
    "homemade_auc_score(virtual_resultat, virtual_prediction)"
   ]
  },
  {
   "cell_type": "markdown",
   "id": "acdc0da9",
   "metadata": {},
   "source": [
    "# Étape n°3 - Entrainement des modèles"
   ]
  },
  {
   "cell_type": "markdown",
   "id": "eab80767",
   "metadata": {},
   "source": [
    "## Type de problème\n",
    "\n",
    "L'objectif est de savoir si __oui__ ou __non__ l'employé a quitté l'entreprise en fonction de certains critères : c'est donc un problème de __classification binaire__. Les données étant fournies au préalable, le modèle de classification sera un __modèle supervisé__.\n",
    "\n",
    "## Résolution du problème\n",
    "\n",
    "Voici une liste de différent modèles supervisés de classification que nous allons tester :\n",
    "- Le Support Vector Classifier (SVC)\n",
    "- L'Arbre de décision\n",
    "- La Random Forest\n",
    "- La Régression logistique binaire\n",
    "- Le Nearest Neighbors\n",
    "- Le Perceptron\n",
    "- Le RidgeClassifier\n",
    "- Le SGDClassifier\n",
    "\n",
    "L'objectif principal étant de déterminer quels sont les __critères agissant le plus sur la décision des employés__ de quitter l'entreprise. Il faut tout d'abord observer la capacité des ces différents modèles à classifier cette décision et __évaluer leur qualité__. Pour entrainer au mieux ces modèles nous allons utiliser la stratégie de la validation croisée (Cross Validation, CV).\n",
    "\n",
    "Après avoir déterminé le meilleur modèle avec des __hyperparamètres idéaux__ (paramètres relatifs au fonctionnement d'un modèle en particulier) : les critères décisif seront mis en avant. À l'aide de ces critères précis et du meilleur modèle trouvé il sera possible de prévoir efficacement les décisions des employés.\n",
    "\n",
    "Afin de tester l'efficacité de la librairie 'scikit-learn', des modèles vont être crées à la main."
   ]
  },
  {
   "cell_type": "markdown",
   "id": "0d424ef6",
   "metadata": {},
   "source": [
    "## Importations"
   ]
  },
  {
   "cell_type": "code",
   "execution_count": 71,
   "id": "0ac1efc6",
   "metadata": {},
   "outputs": [],
   "source": [
    "import numpy as np\n",
    "import pandas as pd\n",
    "import os\n",
    "\n",
    "from sklearn.svm import SVC\n",
    "from sklearn.tree import DecisionTreeClassifier\n",
    "from sklearn.ensemble import RandomForestClassifier\n",
    "from sklearn.neighbors import KNeighborsClassifier\n",
    "from sklearn.linear_model import RidgeClassifier, SGDClassifier\n",
    "from sklearn.metrics import roc_auc_score, roc_curve\n",
    "from sklearn.model_selection import RandomizedSearchCV, GridSearchCV\n",
    "from sklearn.model_selection import train_test_split\n",
    "\n",
    "import warnings\n",
    "warnings.filterwarnings('ignore')"
   ]
  },
  {
   "cell_type": "markdown",
   "id": "786819ff",
   "metadata": {},
   "source": [
    "## Création de modèles\n",
    "### Régression logistique\n",
    "#### Méthode avec l'utilisation de 'sklearn'"
   ]
  },
  {
   "cell_type": "code",
   "execution_count": 72,
   "id": "745d2c62",
   "metadata": {},
   "outputs": [],
   "source": [
    "from sklearn.linear_model import LogisticRegression\n",
    "\n",
    "regression_sklearn = LogisticRegression(random_state=42).fit(X, y)\n",
    "predictions_regression_sklearn = regression_sklearn.predict(X)\n",
    "\n",
    "score_regresssion_sklearn = regression_sklearn.score(X, y)"
   ]
  },
  {
   "cell_type": "markdown",
   "id": "1e3e3c86",
   "metadata": {},
   "source": [
    "#### Méthode homemade"
   ]
  },
  {
   "cell_type": "code",
   "execution_count": 73,
   "id": "df17953b",
   "metadata": {},
   "outputs": [],
   "source": [
    "class HomemadeLogisticRegression:\n",
    "    def __init__(self, iterations=1000, learning_rate=0.001):\n",
    "        self.iterations = iterations\n",
    "        self.learning_rate = learning_rate\n",
    "        self.weights = 0\n",
    "        self.bias = 0\n",
    "        self.predictions = []\n",
    "        \n",
    "    def fit(self, X, y):\n",
    "        n_target, n_feature = X.shape\n",
    "        self.weights = np.zeros(n_feature)\n",
    "        self.bias = 0\n",
    "\n",
    "        for i in range(self.iterations):\n",
    "            linear_model = np.dot(X, self.weights) + self.bias\n",
    "            predictions = 1 / (1 + np.exp(-linear_model))\n",
    "\n",
    "            gradientA = (1 / n_target) * np.dot(X.T, (predictions - y))\n",
    "            gradientB = (1 / n_target) * np.sum(predictions - y)\n",
    "\n",
    "            self.weights -= self.learning_rate * gradientA\n",
    "            self.bias -= self.learning_rate * gradientB\n",
    "        \n",
    "        return self\n",
    "    \n",
    "    def predict(self, X):\n",
    "        linear_model = np.dot(X, self.weights) + self.bias\n",
    "        predictions = 1 / (1 + np.exp(-linear_model))\n",
    "        predictions_classified = [1 if j > 0 else -1 for j in predictions]\n",
    "        \n",
    "        self.predictions = predictions_classified\n",
    "        \n",
    "        return np.array(predictions_classified)\n",
    "\n",
    "    def score(self, X, y):        \n",
    "        return np.sum(y == self.predictions) / len(y)"
   ]
  },
  {
   "cell_type": "code",
   "execution_count": 74,
   "id": "234eba76",
   "metadata": {},
   "outputs": [],
   "source": [
    "regression_homemade = HomemadeLogisticRegression().fit(X, y)\n",
    "predictions_homemade = regression_homemade.predict(X)\n",
    "\n",
    "score_regresssion_homemade = regression_homemade.score(X, y)"
   ]
  },
  {
   "cell_type": "markdown",
   "id": "a9efaa59",
   "metadata": {},
   "source": [
    "#### Comparaison des deux méthodes"
   ]
  },
  {
   "cell_type": "code",
   "execution_count": 75,
   "id": "9788c8cf",
   "metadata": {},
   "outputs": [
    {
     "name": "stdout",
     "output_type": "stream",
     "text": [
      "sklearn score : 0.8496598639455782\n",
      "homemade score : 0.7145124716553288\n"
     ]
    }
   ],
   "source": [
    "print(\"sklearn score :\", score_regresssion_sklearn)\n",
    "print(\"homemade score :\", score_regresssion_homemade)"
   ]
  },
  {
   "cell_type": "markdown",
   "id": "947cc613",
   "metadata": {},
   "source": [
    "### Perceptron simple\n",
    "#### Méthode avec l'utilisation de 'sklearn'"
   ]
  },
  {
   "cell_type": "code",
   "execution_count": 76,
   "id": "4caf4b66",
   "metadata": {},
   "outputs": [],
   "source": [
    "from sklearn.linear_model import Perceptron\n",
    "\n",
    "perceptron_sklearn = Perceptron(random_state=42).fit(X, y)\n",
    "predictions_sklearn = perceptron_sklearn.predict(X)\n",
    "\n",
    "score_perceptron_sklearn = regression_sklearn.score(X,y)"
   ]
  },
  {
   "cell_type": "markdown",
   "id": "ecf5516b",
   "metadata": {},
   "source": [
    "#### Méthode homemade"
   ]
  },
  {
   "cell_type": "code",
   "execution_count": 77,
   "id": "65b6d635",
   "metadata": {},
   "outputs": [],
   "source": [
    "class HomemadePerceptron:\n",
    "    def __init__(self, iterations=1000, rate=0.001):\n",
    "        self.iterations = iterations\n",
    "        self.rate = rate\n",
    "    \n",
    "    def perceptron(self, X):\n",
    "        return [1 if j == 1 else -1 for j in (X.dot(self.omega) + self.bias)]\n",
    "    \n",
    "    def fit(self, X, y):\n",
    "        self.omega = np.random.rand(X.shape[1])\n",
    "        self.bias = np.random.randn(1)\n",
    "        \n",
    "        for i in range(self.iterations):\n",
    "            predicted = self.perceptron(X)\n",
    "\n",
    "            dw = (1 / len(self.omega)) * np.dot(X.T, (predicted - y))\n",
    "            db = (1 / len(self.omega)) * np.sum(predicted - y)\n",
    "\n",
    "            self.omega -= self.rate * dw\n",
    "            self.bias -= self.rate * db\n",
    "        \n",
    "        return self\n",
    "    \n",
    "    def predict(self, X):\n",
    "        self.predictions = self.perceptron(X)\n",
    "        \n",
    "        return np.array(self.predictions)\n",
    "\n",
    "    def score(self, X, y):        \n",
    "        return np.sum(y == self.predictions) / len(y)"
   ]
  },
  {
   "cell_type": "code",
   "execution_count": 78,
   "id": "6f115132",
   "metadata": {},
   "outputs": [],
   "source": [
    "perceptron_homemade = HomemadePerceptron().fit(X, y)\n",
    "predictions_perceptron_homemade = perceptron_homemade.predict(X)\n",
    "\n",
    "score_perceptron_homemade = perceptron_homemade.score(X, y)"
   ]
  },
  {
   "cell_type": "markdown",
   "id": "5f7565a4",
   "metadata": {},
   "source": [
    "#### Comparaison des deux méthodes"
   ]
  },
  {
   "cell_type": "code",
   "execution_count": 79,
   "id": "0a218b30",
   "metadata": {},
   "outputs": [
    {
     "name": "stdout",
     "output_type": "stream",
     "text": [
      "sklearn score : 0.8496598639455782\n",
      "homemade score : 0.8387755102040816\n"
     ]
    }
   ],
   "source": [
    "print(\"sklearn score :\", score_perceptron_sklearn)\n",
    "print(\"homemade score :\", score_perceptron_homemade)"
   ]
  },
  {
   "cell_type": "markdown",
   "id": "d99fbf0e",
   "metadata": {},
   "source": [
    "Avec un score presque équivalent, il est possible de déduire que sklearn retourne des résultats fiables."
   ]
  },
  {
   "cell_type": "markdown",
   "id": "38b5e9d6",
   "metadata": {},
   "source": [
    "## Résolution du problème avec plusieurs modèles\n",
    "### Validation croisée (Cross Validation) : le paramètre k\n",
    "\n",
    "Ce paramètre sera utilisé partout où la validation croisée sera nécessaire. Celui-ci indique le nombre $k$ de partition de taille égale qui sera découpé depuis les données initiales. Par convention, nous allons utiliser $k=10$.\n",
    "\n",
    "Cette valeur est très couramment utilisée et est conseillée par de nombreux spécialistes dans le domaine. (*Page 70, Applied Predictive Modeling & Page 184, An Introduction to Statistical Learning*).\n",
    "\n",
    "### Hyperparamètres\n",
    "#### Hyperparamètres des modèles\n",
    "\n",
    "L'objectif est de connaitre la valeur des hyperparamètres les plus pertinents en fonction des modèles appliqués à ce problème, certains d'entre eux sont utilisés presque partout, d'autres sont plus spécifiques à un modèle. Voici une définition de ceux que nous allons utiliser ainsi qu'une liste de valeur possible que nous appliquerons dans le code.\n",
    "\n",
    "Chaque valeur a été choisie autour de la valeur par défaut fourni par les algorithmes. Tout en respectant un certain pas d'une valeur à une autre d'un même hyperparamètre. Ces hyperparamètres seront testés et évalués par la suite grâce à la méthode `GridSearchCV`. Cette méthode va aussi nous fournir quels seront les meilleurs hyperparamètres en fonction du meilleur score trouvé (le classement du score sera en fonction de l'accuracy, cependant, tous les indicateurs seront calculés). Enfin, nous comparerons ces scores afin de déterminer le meilleur modèle. \n",
    "\n",
    "##### Cas globaux\n",
    "\n",
    "Rassemble les hyperparamètres utilisés sur l'ensemble des modèles sauf les modèles suivants : \"<u>Nearest Neighbors</u>\", \"<u>Arbre de décision</u>\" et \"<u>Random Forest</u>\"\n",
    "\n",
    "- L'hyperparamètre `tol` définit la tolérance pour le critère d'arrêt. Il indique donc à l'algorithme d'arrêter la convergeance une fois qu'une certaine tolérance est atteinte. Plus la tolérance est petite, plus l'algorithme mettra du temps à converger. Il prendra les valeurs possible suivantes : $0.1, 0.01, 0.001, 0.0001, 0.00001$\n",
    "\n",
    "- L'hyperparamètre `max_iter`, celui-ci définit le maximum d'itération maximale dans la convergeance vers la tolérance donnée afin d'éviter les boucles infinies. Il prendra les valeurs possibles suivantes : $500, 1000, 1500, 2000$ \n",
    "\n",
    "Cas exceptionnel pour l'hyperparamètre `max_iter`:\n",
    "\n",
    "La valeur par défaut de `max_iter` étant plus petite dans le modèle \"<u>Régression logistique binaire</u>\", le pas sera lui aussi plus petit. Voici donc les valeurs utilisées dans ce cas précis : $100, 200, 300, 400, 500, 600$\n",
    "\n",
    "##### SVC\n",
    "\n",
    "En plus des trois hyperparamètres cités précédemment, un de plus va être utilisé: il s'agit de l'hyperparamètre `kernel` celui-ci spécifie le type de noyau à utiliser dans l'algorithme. Il est au centre du fonctionnement du SVC et affecte grandement la séparabilité des classes ainsi que la performance de l'algorithme. Il prendra les valeurs possible suivantes : `'linear'`, `'poly'`, `'sigmoid'`, `'rbf'`.\n",
    "\n",
    "##### DecisionTreeClassifier\n",
    "\n",
    "Il s'agit ici de faire varier deux hyperparamètres, `splitter` et `max_features`.\n",
    "\n",
    "- l'hyperparamètre `splitter` spécifie la stratégie utilisée pour choisir la méthode de fractionnement à chaque nœud. En plus d'agir sur la performance, celui-ci va permettre de fournir des résultats inédits (car l'aléatoire rentre en compte). Il prendra deux valeurs possibles qui sont les suivantes : `'best'` et `'random'`\n",
    "\n",
    "- l'hyperparamètre `max_features` spécifie le nombre maximal de critères qui vont être utilisés lors de la création de l'arbre. Le maximum (5) est représenté par le nombre de critères totaux dans le dataset. Celui-ci prendra les valeurs suivantes : $1, 2, 3, 4, 5$\n",
    "\n",
    "##### RandomForestClassifier\n",
    "\n",
    "Ce modèle, quant à lui, va se voir faire varier trois hyperparamètres, `n_estimators`, `max_features` et `bootstrap`.\n",
    "\n",
    "- l'hyperparamètre `n_estimators` spécifie le nombre d'arbre dans la fôret, c'est à dire le nombre d'échantillons sur lesquels cet algorithme va travailler. Il prendra les valeurs suivantes : $100, 200, 300, 400$\n",
    "\n",
    "- l'hyperparamètre `max_features` est le même que pour le modèle \"<u>DecisionTreeClassifier</u>\"\n",
    "\n",
    "- l'hyperparamètre `bootstrap` spécifie si des échantillons seront utilisés lors de la construction des arbres. Sinon l'ensemble des données est utilisé pour construire chaque arbre. Celui-ci prendra deux valeurs possibles suivantes : `True` et `False`\n",
    "\n",
    "##### KNeighborsClassifier\n",
    "\n",
    "Nous allons utiliser un hyperparamètre : `n_neighbors`. Celui-ci spécifie le nombre de voisins à utiliser par défaut pour les requêtes kneighbors. Celui-ci est très important, car il agit directement avec l'accuracy du modèle. Il prendra les valeurs possibles suivantes : $2, 4, 6, 8, 10, 12, 14, 16, 18, 20$\n",
    "\n",
    "##### SGDClassifier\n",
    "\n",
    "En plus des deux hyperparamètres cités dans les cas globaux, l'hyperparamètre `alpha` sera utilisé. Il définit la constante qui multiplie le terme de régularisation qui va agir sur le pas d'apprentissage de l'algorithme et donc la façon dont il va converger vers le minimum. Celui-ci prendra les valeurs suivantes : $0.01, 0.001, 0.0001, 0.00001$"
   ]
  },
  {
   "cell_type": "code",
   "execution_count": 80,
   "id": "017ea6bb",
   "metadata": {},
   "outputs": [],
   "source": [
    "from sklearn.metrics import classification_report\n",
    "bests = {}\n",
    "def models(models, X, y):\n",
    "    X_train, X_test, y_train, y_test = train_test_split(X, y, test_size = .20, random_state = 100)\n",
    "    data = {\n",
    "        \"parameters\": [],\n",
    "        \"predict\": [],\n",
    "        \"confusion_matrix\": [],\n",
    "        \"precision\": [],\n",
    "        \"recall\" : [],\n",
    "        \"specificity\": [],\n",
    "        \"fpr\": [],\n",
    "        \"fnr\": [],\n",
    "        \"accuracy\": [],\n",
    "        \"f1-score\": [],\n",
    "        \"npv\": [],\n",
    "        \"fdr\": [],\n",
    "        \"auc\": [],\n",
    "        \"roc-parameters\": []\n",
    "    }\n",
    "    for model in models:        \n",
    "        path = \"./outputs/models/\"+ model[\"name\"]\n",
    "        if not os.path.isdir(path):\n",
    "            os.makedirs(path)\n",
    "        \n",
    "        print(model[\"name\"] + \" : \")\n",
    "        print(\"Start training...\")\n",
    "        \n",
    "        search = GridSearchCV(\n",
    "            model[\"method\"],\n",
    "            model[\"parameters\"],\n",
    "            cv=10,\n",
    "            scoring='accuracy'\n",
    "        )\n",
    "        \n",
    "        \n",
    "        search.fit(X_train, y_train)\n",
    "        print(\"Done!\")\n",
    "        \n",
    "        data[\"parameters\"].append(search.best_params_)\n",
    "        model_predict = search.best_estimator_.predict(X_test)\n",
    "        \n",
    "        confusion = homemade_confusion_matrix(y_test, model_predict)\n",
    "                \n",
    "        data[\"predict\"].append(model_predict)\n",
    "        data[\"confusion_matrix\"].append(confusion)\n",
    "        \n",
    "        precision = homemade_precision_score(y_test, model_predict)\n",
    "        recall = homemade_recall_score(y_test, model_predict)\n",
    "        \n",
    "        data[\"precision\"].append(precision)\n",
    "        data[\"recall\"].append(recall)\n",
    "        data[\"specificity\"].append(homemade_specificity_score(y_test, model_predict))\n",
    "        data[\"fpr\"].append(homemade_fpr_calculator(y_test, model_predict))\n",
    "        data[\"fnr\"].append(homemade_fnr_calculator(y_test, model_predict))\n",
    "        data[\"accuracy\"].append(homemade_accuracy_score(y_test, model_predict))\n",
    "        data[\"f1-score\"].append(homemade_f1_score(precision, recall))\n",
    "        data[\"npv\"].append(homemade_npv_calculator(y_test, model_predict))\n",
    "        data[\"fdr\"].append(homemade_fdr_calculator(y_test, model_predict))\n",
    "        \n",
    "        false_pos, true_pos, thresholds = roc_curve(y_test, model_predict)\n",
    "        \n",
    "        data[\"auc\"].append(roc_auc_score(y_test, model_predict))\n",
    "        data[\"roc-parameters\"].append({\n",
    "            \"false_pos\": false_pos,\n",
    "            \"true_pos\": true_pos,\n",
    "            \"thresholds\": thresholds\n",
    "        })\n",
    "        \n",
    "        bests.update({model[\"name\"]: search.best_estimator_})\n",
    "    \n",
    "    return pd.DataFrame(data, index=pd.DataFrame(models)[\"name\"].to_numpy())"
   ]
  },
  {
   "cell_type": "code",
   "execution_count": 81,
   "id": "2bbfd4b1",
   "metadata": {
    "scrolled": true
   },
   "outputs": [
    {
     "name": "stdout",
     "output_type": "stream",
     "text": [
      "DecisionTreeClassifier : \n",
      "Start training...\n",
      "Done!\n",
      "KNeighborsClassifier : \n",
      "Start training...\n",
      "Done!\n",
      "Ridge : \n",
      "Start training...\n",
      "Done!\n",
      "RandomForestClassifier : \n",
      "Start training...\n",
      "Done!\n",
      "Perceptron : \n",
      "Start training...\n",
      "Done!\n",
      "SGDClassifier : \n",
      "Start training...\n",
      "Done!\n",
      "SVC : \n",
      "Start training...\n",
      "Done!\n",
      "LogisticRegression : \n",
      "Start training...\n",
      "Done!\n"
     ]
    }
   ],
   "source": [
    "models_indicators = models(\n",
    "    [\n",
    "        { # 180\n",
    "            'name': 'DecisionTreeClassifier',\n",
    "            'method': DecisionTreeClassifier(random_state=100),\n",
    "            \"parameters\": {\n",
    "                \"splitter\": [\"best\", \"random\"],\n",
    "                \"max_features\": [1, 2, 3, 4, 5]\n",
    "            }\n",
    "        },\n",
    "        { # 200\n",
    "            'name': 'KNeighborsClassifier',\n",
    "            'method': KNeighborsClassifier(),\n",
    "            \"parameters\": {\n",
    "                \"n_neighbors\": [2, 4, 6, 8, 10, 12, 14, 16, 18, 20],\n",
    "                \"weights\": [\"uniform\", \"distance\"],\n",
    "            }\n",
    "        },\n",
    "        { # 200\n",
    "            'name': 'Ridge',\n",
    "            'method': RidgeClassifier(random_state=100),\n",
    "            \"parameters\": {\n",
    "                \"max_iter\": [500, 1000, 1500, 2000],\n",
    "                \"tol\": [0.1, 0.01, 0.001, 0.0001, 0.00001],\n",
    "            }\n",
    "        },\n",
    "        { # 720\n",
    "            'name': 'RandomForestClassifier',\n",
    "            'method': RandomForestClassifier(random_state=100),\n",
    "            \"parameters\": {\n",
    "                \"n_estimators\": [100, 200, 300, 400] ,\n",
    "                \"max_features\": [1, 2, 3, 4, 5] ,\n",
    "                \"bootstrap\": [True, False],\n",
    "            }\n",
    "        },\n",
    "        { # 800\n",
    "            'name': 'Perceptron',\n",
    "            'method': Perceptron(random_state=100),\n",
    "            \"parameters\": {\n",
    "                \"max_iter\": [500, 1000, 1500, 2000],\n",
    "                \"n_iter_no_change\": [5, 10, 15, 20],\n",
    "                \"tol\": [0.1, 0.01, 0.001, 0.0001, 0.00001],\n",
    "            }\n",
    "        },\n",
    "        { # 800\n",
    "            'name': 'SGDClassifier',\n",
    "            'method': SGDClassifier(random_state=100),\n",
    "            \"parameters\": {\n",
    "                \"max_iter\": [500, 1000, 1500, 2000],\n",
    "                \"n_iter_no_change\": [5, 10, 15, 20],\n",
    "                \"tol\": [0.1, 0.01, 0.001, 0.0001, 0.00001],\n",
    "            }\n",
    "        },\n",
    "        { # 800\n",
    "            'name': 'SVC',\n",
    "            'method': SVC(random_state=100),\n",
    "            \"parameters\": {\n",
    "                \"max_iter\": [500, 1000, 1500, -1] ,\n",
    "                \"kernel\": [\"linear\", \"poly\", \"sigmoid\", \"rbf\"],\n",
    "                \"tol\": [0.1, 0.01, 0.001, 0.0001, 0.00001],\n",
    "            }\n",
    "        },\n",
    "        { # 900\n",
    "            'name': 'LogisticRegression',\n",
    "            'method': LogisticRegression(random_state=100),\n",
    "            \"parameters\": {\n",
    "                \"max_iter\": [100, 200, 300, 400, 500, 600],\n",
    "                \"solver\": [\"sag\", \"liblinear\", \"saga\"],\n",
    "                \"tol\": [0.1, 0.01, 0.001, 0.0001, 0.00001],\n",
    "            }\n",
    "        }\n",
    "    ],\n",
    "    X.to_numpy(),\n",
    "    y.to_numpy()\n",
    ")"
   ]
  },
  {
   "cell_type": "code",
   "execution_count": 82,
   "id": "9c4a7f15",
   "metadata": {},
   "outputs": [
    {
     "data": {
      "text/html": [
       "<div>\n",
       "<style scoped>\n",
       "    .dataframe tbody tr th:only-of-type {\n",
       "        vertical-align: middle;\n",
       "    }\n",
       "\n",
       "    .dataframe tbody tr th {\n",
       "        vertical-align: top;\n",
       "    }\n",
       "\n",
       "    .dataframe thead th {\n",
       "        text-align: right;\n",
       "    }\n",
       "</style>\n",
       "<table border=\"1\" class=\"dataframe\">\n",
       "  <thead>\n",
       "    <tr style=\"text-align: right;\">\n",
       "      <th></th>\n",
       "      <th>parameters</th>\n",
       "      <th>predict</th>\n",
       "      <th>confusion_matrix</th>\n",
       "      <th>precision</th>\n",
       "      <th>recall</th>\n",
       "      <th>specificity</th>\n",
       "      <th>fpr</th>\n",
       "      <th>fnr</th>\n",
       "      <th>accuracy</th>\n",
       "      <th>f1-score</th>\n",
       "      <th>npv</th>\n",
       "      <th>fdr</th>\n",
       "      <th>auc</th>\n",
       "      <th>roc-parameters</th>\n",
       "    </tr>\n",
       "  </thead>\n",
       "  <tbody>\n",
       "    <tr>\n",
       "      <th>DecisionTreeClassifier</th>\n",
       "      <td>{'max_features': 3, 'splitter': 'random'}</td>\n",
       "      <td>[-1, -1, -1, -1, -1, 1, 1, 1, -1, -1, -1, -1, ...</td>\n",
       "      <td>[[103, 31], [38, 710]]</td>\n",
       "      <td>0.730496</td>\n",
       "      <td>0.768657</td>\n",
       "      <td>0.949198</td>\n",
       "      <td>0.050802</td>\n",
       "      <td>0.231343</td>\n",
       "      <td>0.921769</td>\n",
       "      <td>0.749091</td>\n",
       "      <td>0.958165</td>\n",
       "      <td>0.269504</td>\n",
       "      <td>0.858927</td>\n",
       "      <td>{'false_pos': [0.0, 0.05080213903743316, 1.0],...</td>\n",
       "    </tr>\n",
       "    <tr>\n",
       "      <th>KNeighborsClassifier</th>\n",
       "      <td>{'n_neighbors': 10, 'weights': 'distance'}</td>\n",
       "      <td>[-1, -1, -1, -1, -1, -1, 1, -1, -1, -1, -1, -1...</td>\n",
       "      <td>[[54, 80], [23, 725]]</td>\n",
       "      <td>0.701299</td>\n",
       "      <td>0.402985</td>\n",
       "      <td>0.969251</td>\n",
       "      <td>0.030749</td>\n",
       "      <td>0.597015</td>\n",
       "      <td>0.883220</td>\n",
       "      <td>0.511848</td>\n",
       "      <td>0.900621</td>\n",
       "      <td>0.298701</td>\n",
       "      <td>0.686118</td>\n",
       "      <td>{'false_pos': [0.0, 0.03074866310160428, 1.0],...</td>\n",
       "    </tr>\n",
       "    <tr>\n",
       "      <th>Ridge</th>\n",
       "      <td>{'max_iter': 500, 'tol': 0.1}</td>\n",
       "      <td>[-1, -1, -1, -1, -1, -1, -1, -1, -1, -1, -1, -...</td>\n",
       "      <td>[[0, 134], [0, 748]]</td>\n",
       "      <td>NaN</td>\n",
       "      <td>0.000000</td>\n",
       "      <td>1.000000</td>\n",
       "      <td>0.000000</td>\n",
       "      <td>1.000000</td>\n",
       "      <td>0.848073</td>\n",
       "      <td>NaN</td>\n",
       "      <td>0.848073</td>\n",
       "      <td>NaN</td>\n",
       "      <td>0.500000</td>\n",
       "      <td>{'false_pos': [0.0, 1.0], 'true_pos': [0.0, 1....</td>\n",
       "    </tr>\n",
       "    <tr>\n",
       "      <th>RandomForestClassifier</th>\n",
       "      <td>{'bootstrap': False, 'max_features': 1, 'n_est...</td>\n",
       "      <td>[-1, -1, -1, -1, -1, -1, 1, -1, -1, -1, -1, -1...</td>\n",
       "      <td>[[97, 37], [17, 731]]</td>\n",
       "      <td>0.850877</td>\n",
       "      <td>0.723881</td>\n",
       "      <td>0.977273</td>\n",
       "      <td>0.022727</td>\n",
       "      <td>0.276119</td>\n",
       "      <td>0.938776</td>\n",
       "      <td>0.782258</td>\n",
       "      <td>0.951823</td>\n",
       "      <td>0.149123</td>\n",
       "      <td>0.850577</td>\n",
       "      <td>{'false_pos': [0.0, 0.022727272727272728, 1.0]...</td>\n",
       "    </tr>\n",
       "    <tr>\n",
       "      <th>Perceptron</th>\n",
       "      <td>{'max_iter': 500, 'n_iter_no_change': 5, 'tol'...</td>\n",
       "      <td>[-1, -1, -1, 1, -1, 1, 1, 1, -1, -1, -1, -1, -...</td>\n",
       "      <td>[[63, 71], [143, 605]]</td>\n",
       "      <td>0.305825</td>\n",
       "      <td>0.470149</td>\n",
       "      <td>0.808824</td>\n",
       "      <td>0.191176</td>\n",
       "      <td>0.529851</td>\n",
       "      <td>0.757370</td>\n",
       "      <td>0.370588</td>\n",
       "      <td>0.894970</td>\n",
       "      <td>0.694175</td>\n",
       "      <td>0.639486</td>\n",
       "      <td>{'false_pos': [0.0, 0.19117647058823528, 1.0],...</td>\n",
       "    </tr>\n",
       "    <tr>\n",
       "      <th>SGDClassifier</th>\n",
       "      <td>{'max_iter': 1000, 'n_iter_no_change': 20, 'to...</td>\n",
       "      <td>[-1, -1, -1, 1, -1, 1, 1, 1, -1, -1, -1, 1, -1...</td>\n",
       "      <td>[[61, 73], [152, 596]]</td>\n",
       "      <td>0.286385</td>\n",
       "      <td>0.455224</td>\n",
       "      <td>0.796791</td>\n",
       "      <td>0.203209</td>\n",
       "      <td>0.544776</td>\n",
       "      <td>0.744898</td>\n",
       "      <td>0.351585</td>\n",
       "      <td>0.890882</td>\n",
       "      <td>0.713615</td>\n",
       "      <td>0.626008</td>\n",
       "      <td>{'false_pos': [0.0, 0.20320855614973263, 1.0],...</td>\n",
       "    </tr>\n",
       "    <tr>\n",
       "      <th>SVC</th>\n",
       "      <td>{'kernel': 'linear', 'max_iter': -1, 'tol': 0.1}</td>\n",
       "      <td>[-1, -1, -1, -1, -1, -1, -1, -1, -1, -1, -1, -...</td>\n",
       "      <td>[[0, 134], [0, 748]]</td>\n",
       "      <td>NaN</td>\n",
       "      <td>0.000000</td>\n",
       "      <td>1.000000</td>\n",
       "      <td>0.000000</td>\n",
       "      <td>1.000000</td>\n",
       "      <td>0.848073</td>\n",
       "      <td>NaN</td>\n",
       "      <td>0.848073</td>\n",
       "      <td>NaN</td>\n",
       "      <td>0.500000</td>\n",
       "      <td>{'false_pos': [0.0, 1.0], 'true_pos': [0.0, 1....</td>\n",
       "    </tr>\n",
       "    <tr>\n",
       "      <th>LogisticRegression</th>\n",
       "      <td>{'max_iter': 100, 'solver': 'liblinear', 'tol'...</td>\n",
       "      <td>[-1, -1, -1, -1, -1, -1, 1, -1, -1, -1, -1, -1...</td>\n",
       "      <td>[[17, 117], [4, 744]]</td>\n",
       "      <td>0.809524</td>\n",
       "      <td>0.126866</td>\n",
       "      <td>0.994652</td>\n",
       "      <td>0.005348</td>\n",
       "      <td>0.873134</td>\n",
       "      <td>0.862812</td>\n",
       "      <td>0.219355</td>\n",
       "      <td>0.864111</td>\n",
       "      <td>0.190476</td>\n",
       "      <td>0.560759</td>\n",
       "      <td>{'false_pos': [0.0, 0.0053475935828877, 1.0], ...</td>\n",
       "    </tr>\n",
       "  </tbody>\n",
       "</table>\n",
       "</div>"
      ],
      "text/plain": [
       "                                                               parameters  \\\n",
       "DecisionTreeClassifier          {'max_features': 3, 'splitter': 'random'}   \n",
       "KNeighborsClassifier           {'n_neighbors': 10, 'weights': 'distance'}   \n",
       "Ridge                                       {'max_iter': 500, 'tol': 0.1}   \n",
       "RandomForestClassifier  {'bootstrap': False, 'max_features': 1, 'n_est...   \n",
       "Perceptron              {'max_iter': 500, 'n_iter_no_change': 5, 'tol'...   \n",
       "SGDClassifier           {'max_iter': 1000, 'n_iter_no_change': 20, 'to...   \n",
       "SVC                      {'kernel': 'linear', 'max_iter': -1, 'tol': 0.1}   \n",
       "LogisticRegression      {'max_iter': 100, 'solver': 'liblinear', 'tol'...   \n",
       "\n",
       "                                                                  predict  \\\n",
       "DecisionTreeClassifier  [-1, -1, -1, -1, -1, 1, 1, 1, -1, -1, -1, -1, ...   \n",
       "KNeighborsClassifier    [-1, -1, -1, -1, -1, -1, 1, -1, -1, -1, -1, -1...   \n",
       "Ridge                   [-1, -1, -1, -1, -1, -1, -1, -1, -1, -1, -1, -...   \n",
       "RandomForestClassifier  [-1, -1, -1, -1, -1, -1, 1, -1, -1, -1, -1, -1...   \n",
       "Perceptron              [-1, -1, -1, 1, -1, 1, 1, 1, -1, -1, -1, -1, -...   \n",
       "SGDClassifier           [-1, -1, -1, 1, -1, 1, 1, 1, -1, -1, -1, 1, -1...   \n",
       "SVC                     [-1, -1, -1, -1, -1, -1, -1, -1, -1, -1, -1, -...   \n",
       "LogisticRegression      [-1, -1, -1, -1, -1, -1, 1, -1, -1, -1, -1, -1...   \n",
       "\n",
       "                              confusion_matrix  precision    recall  \\\n",
       "DecisionTreeClassifier  [[103, 31], [38, 710]]   0.730496  0.768657   \n",
       "KNeighborsClassifier     [[54, 80], [23, 725]]   0.701299  0.402985   \n",
       "Ridge                     [[0, 134], [0, 748]]        NaN  0.000000   \n",
       "RandomForestClassifier   [[97, 37], [17, 731]]   0.850877  0.723881   \n",
       "Perceptron              [[63, 71], [143, 605]]   0.305825  0.470149   \n",
       "SGDClassifier           [[61, 73], [152, 596]]   0.286385  0.455224   \n",
       "SVC                       [[0, 134], [0, 748]]        NaN  0.000000   \n",
       "LogisticRegression       [[17, 117], [4, 744]]   0.809524  0.126866   \n",
       "\n",
       "                        specificity       fpr       fnr  accuracy  f1-score  \\\n",
       "DecisionTreeClassifier     0.949198  0.050802  0.231343  0.921769  0.749091   \n",
       "KNeighborsClassifier       0.969251  0.030749  0.597015  0.883220  0.511848   \n",
       "Ridge                      1.000000  0.000000  1.000000  0.848073       NaN   \n",
       "RandomForestClassifier     0.977273  0.022727  0.276119  0.938776  0.782258   \n",
       "Perceptron                 0.808824  0.191176  0.529851  0.757370  0.370588   \n",
       "SGDClassifier              0.796791  0.203209  0.544776  0.744898  0.351585   \n",
       "SVC                        1.000000  0.000000  1.000000  0.848073       NaN   \n",
       "LogisticRegression         0.994652  0.005348  0.873134  0.862812  0.219355   \n",
       "\n",
       "                             npv       fdr       auc  \\\n",
       "DecisionTreeClassifier  0.958165  0.269504  0.858927   \n",
       "KNeighborsClassifier    0.900621  0.298701  0.686118   \n",
       "Ridge                   0.848073       NaN  0.500000   \n",
       "RandomForestClassifier  0.951823  0.149123  0.850577   \n",
       "Perceptron              0.894970  0.694175  0.639486   \n",
       "SGDClassifier           0.890882  0.713615  0.626008   \n",
       "SVC                     0.848073       NaN  0.500000   \n",
       "LogisticRegression      0.864111  0.190476  0.560759   \n",
       "\n",
       "                                                           roc-parameters  \n",
       "DecisionTreeClassifier  {'false_pos': [0.0, 0.05080213903743316, 1.0],...  \n",
       "KNeighborsClassifier    {'false_pos': [0.0, 0.03074866310160428, 1.0],...  \n",
       "Ridge                   {'false_pos': [0.0, 1.0], 'true_pos': [0.0, 1....  \n",
       "RandomForestClassifier  {'false_pos': [0.0, 0.022727272727272728, 1.0]...  \n",
       "Perceptron              {'false_pos': [0.0, 0.19117647058823528, 1.0],...  \n",
       "SGDClassifier           {'false_pos': [0.0, 0.20320855614973263, 1.0],...  \n",
       "SVC                     {'false_pos': [0.0, 1.0], 'true_pos': [0.0, 1....  \n",
       "LogisticRegression      {'false_pos': [0.0, 0.0053475935828877, 1.0], ...  "
      ]
     },
     "execution_count": 82,
     "metadata": {},
     "output_type": "execute_result"
    }
   ],
   "source": [
    "models_indicators.to_csv(\"./outputs/models/indicators.csv\")"
   ]
  },
  {
   "cell_type": "markdown",
   "id": "35520d8b",
   "metadata": {},
   "source": [
    "# Étape n°4 - Interprétation des résultats\n",
    "\n",
    "## Selection du meilleur modèle\n",
    "\n",
    "### Classement à partir de l'accuracy\n",
    "\n",
    "Après avoir recueillis les meilleurs hyperparamètres de chaque modèle grâce à la méthode GridSearchCV (celle-ci se fiant uniquement à l'indicateur 'accuracy' donné en paramètre), un premier classement des meilleurs modèles peut déjà être établis. "
   ]
  },
  {
   "cell_type": "code",
   "execution_count": 119,
   "id": "acf2ffc6",
   "metadata": {},
   "outputs": [],
   "source": [
    "import matplotlib\n",
    "import matplotlib.pyplot as plt\n",
    "import numpy as np\n",
    "import seaborn as sns\n",
    "\n",
    "def display_info(infos, titles, labels, ymax=1.2, ylabel=''):\n",
    "    fig, axs = plt.subplots(nrows=1, ncols=len(titles), figsize=(24, 6))\n",
    "    \n",
    "    if (len(titles) > 1):\n",
    "        for j in range(0, len(titles)):\n",
    "            axs[j] = give_data_to_display_as_hist(infos[j], labels, titles[j].capitalize(), axs[j], fig, 'C'+str(j), ymax, ylabel)\n",
    "    else:\n",
    "        axs = give_data_to_display_as_hist(infos, labels, titles[0].capitalize(), axs, fig, 'C1', ymax, ylabel)\n",
    "    \n",
    "    save_fig(\"./outputs/\"+ ylabel + \"_result\")\n",
    "    plt.show()\n",
    "\n",
    "def give_data_to_display_as_hist(array, labels, title, ax, fig, color=\"C1\", ymax=1.2, what=''):\n",
    "    ind = list(np.arange(len(array)))\n",
    "    bars = ax.bar(ind, array, 0.5, color=color)\n",
    "    ax.set_title(title, fontsize=16)\n",
    "    ax.set_xlim(-0.5, len(ind) + 0.5)\n",
    "    ax.set_ylim(0, ymax)\n",
    "    ax.set_ylabel(what)\n",
    "    ax.set_xlim(-0.5, 3.5)\n",
    "    ax.set_xticks(ind)\n",
    "    ax.set_xticklabels(labels, fontsize=16)\n",
    "    for rect in ax.patches:\n",
    "        height = rect.get_height()\n",
    "        if (np.issubdtype(height, np.integer) == False):\n",
    "            height = np.around(height, 3)\n",
    "        ax.annotate(height, xy=(rect.get_x()+rect.get_width()/2, height), xytext=(0, 5), textcoords='offset points', ha='center', va='bottom')\n",
    "    return ax;\n",
    "\n",
    "def plot_roc_curve(false_pos, true_pos, ax, title=''):\n",
    "    ax.plot(false_pos, true_pos, linewidth=2)\n",
    "    ax.plot([0, 1], [0, 1], 'k--')\n",
    "    ax.axis([0, 1, 0, 1])\n",
    "    ax.set_title(title, fontsize=16)\n",
    "    ax.set_xlabel('False Positive Rate', fontsize=16)\n",
    "    ax.set_ylabel('True Positive Rate', fontsize=16)\n",
    "    return ax"
   ]
  },
  {
   "cell_type": "code",
   "execution_count": 84,
   "id": "5085105b",
   "metadata": {},
   "outputs": [],
   "source": [
    "datas = models_indicators\n",
    "datas_accuracy_sorted = datas.sort_values(by='accuracy', ascending=False)"
   ]
  },
  {
   "cell_type": "code",
   "execution_count": 85,
   "id": "11fe5edb",
   "metadata": {},
   "outputs": [
    {
     "data": {
      "text/html": [
       "<div>\n",
       "<style scoped>\n",
       "    .dataframe tbody tr th:only-of-type {\n",
       "        vertical-align: middle;\n",
       "    }\n",
       "\n",
       "    .dataframe tbody tr th {\n",
       "        vertical-align: top;\n",
       "    }\n",
       "\n",
       "    .dataframe thead th {\n",
       "        text-align: right;\n",
       "    }\n",
       "</style>\n",
       "<table border=\"1\" class=\"dataframe\">\n",
       "  <thead>\n",
       "    <tr style=\"text-align: right;\">\n",
       "      <th></th>\n",
       "      <th>accuracy</th>\n",
       "    </tr>\n",
       "  </thead>\n",
       "  <tbody>\n",
       "    <tr>\n",
       "      <th>RandomForestClassifier</th>\n",
       "      <td>0.938776</td>\n",
       "    </tr>\n",
       "    <tr>\n",
       "      <th>DecisionTreeClassifier</th>\n",
       "      <td>0.921769</td>\n",
       "    </tr>\n",
       "    <tr>\n",
       "      <th>KNeighborsClassifier</th>\n",
       "      <td>0.883220</td>\n",
       "    </tr>\n",
       "    <tr>\n",
       "      <th>LogisticRegression</th>\n",
       "      <td>0.862812</td>\n",
       "    </tr>\n",
       "    <tr>\n",
       "      <th>Ridge</th>\n",
       "      <td>0.848073</td>\n",
       "    </tr>\n",
       "    <tr>\n",
       "      <th>SVC</th>\n",
       "      <td>0.848073</td>\n",
       "    </tr>\n",
       "    <tr>\n",
       "      <th>Perceptron</th>\n",
       "      <td>0.757370</td>\n",
       "    </tr>\n",
       "    <tr>\n",
       "      <th>SGDClassifier</th>\n",
       "      <td>0.744898</td>\n",
       "    </tr>\n",
       "  </tbody>\n",
       "</table>\n",
       "</div>"
      ],
      "text/plain": [
       "                        accuracy\n",
       "RandomForestClassifier  0.938776\n",
       "DecisionTreeClassifier  0.921769\n",
       "KNeighborsClassifier    0.883220\n",
       "LogisticRegression      0.862812\n",
       "Ridge                   0.848073\n",
       "SVC                     0.848073\n",
       "Perceptron              0.757370\n",
       "SGDClassifier           0.744898"
      ]
     },
     "execution_count": 85,
     "metadata": {},
     "output_type": "execute_result"
    }
   ],
   "source": [
    "datas_accuracy_sorted[['accuracy']]"
   ]
  },
  {
   "cell_type": "markdown",
   "id": "0c68a31c",
   "metadata": {},
   "source": [
    "D'après le classement, les modèles <u>DecisionTreeClassifier</u>, <u>KNeighborsClassifier</u> et <u>RandomForestClassifier</u> obtiennent un très bon score d'accuracy. Il est donc nécessaire de regarder en détails les différents scores.\n",
    "### Classement à partir de la precision, recall et F1-Score"
   ]
  },
  {
   "cell_type": "code",
   "execution_count": 86,
   "id": "2f2f7104",
   "metadata": {},
   "outputs": [
    {
     "data": {
      "text/html": [
       "<div>\n",
       "<style scoped>\n",
       "    .dataframe tbody tr th:only-of-type {\n",
       "        vertical-align: middle;\n",
       "    }\n",
       "\n",
       "    .dataframe tbody tr th {\n",
       "        vertical-align: top;\n",
       "    }\n",
       "\n",
       "    .dataframe thead th {\n",
       "        text-align: right;\n",
       "    }\n",
       "</style>\n",
       "<table border=\"1\" class=\"dataframe\">\n",
       "  <thead>\n",
       "    <tr style=\"text-align: right;\">\n",
       "      <th></th>\n",
       "      <th>precision</th>\n",
       "    </tr>\n",
       "  </thead>\n",
       "  <tbody>\n",
       "    <tr>\n",
       "      <th>RandomForestClassifier</th>\n",
       "      <td>0.850877</td>\n",
       "    </tr>\n",
       "    <tr>\n",
       "      <th>LogisticRegression</th>\n",
       "      <td>0.809524</td>\n",
       "    </tr>\n",
       "    <tr>\n",
       "      <th>DecisionTreeClassifier</th>\n",
       "      <td>0.730496</td>\n",
       "    </tr>\n",
       "    <tr>\n",
       "      <th>KNeighborsClassifier</th>\n",
       "      <td>0.701299</td>\n",
       "    </tr>\n",
       "    <tr>\n",
       "      <th>Perceptron</th>\n",
       "      <td>0.305825</td>\n",
       "    </tr>\n",
       "    <tr>\n",
       "      <th>SGDClassifier</th>\n",
       "      <td>0.286385</td>\n",
       "    </tr>\n",
       "    <tr>\n",
       "      <th>Ridge</th>\n",
       "      <td>NaN</td>\n",
       "    </tr>\n",
       "    <tr>\n",
       "      <th>SVC</th>\n",
       "      <td>NaN</td>\n",
       "    </tr>\n",
       "  </tbody>\n",
       "</table>\n",
       "</div>"
      ],
      "text/plain": [
       "                        precision\n",
       "RandomForestClassifier   0.850877\n",
       "LogisticRegression       0.809524\n",
       "DecisionTreeClassifier   0.730496\n",
       "KNeighborsClassifier     0.701299\n",
       "Perceptron               0.305825\n",
       "SGDClassifier            0.286385\n",
       "Ridge                         NaN\n",
       "SVC                           NaN"
      ]
     },
     "execution_count": 86,
     "metadata": {},
     "output_type": "execute_result"
    }
   ],
   "source": [
    "datas_precision_sorted = datas.sort_values(by='precision', ascending=False)\n",
    "datas_precision_sorted[['precision']]"
   ]
  },
  {
   "cell_type": "code",
   "execution_count": 87,
   "id": "b268856a",
   "metadata": {},
   "outputs": [
    {
     "data": {
      "text/html": [
       "<div>\n",
       "<style scoped>\n",
       "    .dataframe tbody tr th:only-of-type {\n",
       "        vertical-align: middle;\n",
       "    }\n",
       "\n",
       "    .dataframe tbody tr th {\n",
       "        vertical-align: top;\n",
       "    }\n",
       "\n",
       "    .dataframe thead th {\n",
       "        text-align: right;\n",
       "    }\n",
       "</style>\n",
       "<table border=\"1\" class=\"dataframe\">\n",
       "  <thead>\n",
       "    <tr style=\"text-align: right;\">\n",
       "      <th></th>\n",
       "      <th>recall</th>\n",
       "    </tr>\n",
       "  </thead>\n",
       "  <tbody>\n",
       "    <tr>\n",
       "      <th>DecisionTreeClassifier</th>\n",
       "      <td>0.768657</td>\n",
       "    </tr>\n",
       "    <tr>\n",
       "      <th>RandomForestClassifier</th>\n",
       "      <td>0.723881</td>\n",
       "    </tr>\n",
       "    <tr>\n",
       "      <th>Perceptron</th>\n",
       "      <td>0.470149</td>\n",
       "    </tr>\n",
       "    <tr>\n",
       "      <th>SGDClassifier</th>\n",
       "      <td>0.455224</td>\n",
       "    </tr>\n",
       "    <tr>\n",
       "      <th>KNeighborsClassifier</th>\n",
       "      <td>0.402985</td>\n",
       "    </tr>\n",
       "    <tr>\n",
       "      <th>LogisticRegression</th>\n",
       "      <td>0.126866</td>\n",
       "    </tr>\n",
       "    <tr>\n",
       "      <th>Ridge</th>\n",
       "      <td>0.000000</td>\n",
       "    </tr>\n",
       "    <tr>\n",
       "      <th>SVC</th>\n",
       "      <td>0.000000</td>\n",
       "    </tr>\n",
       "  </tbody>\n",
       "</table>\n",
       "</div>"
      ],
      "text/plain": [
       "                          recall\n",
       "DecisionTreeClassifier  0.768657\n",
       "RandomForestClassifier  0.723881\n",
       "Perceptron              0.470149\n",
       "SGDClassifier           0.455224\n",
       "KNeighborsClassifier    0.402985\n",
       "LogisticRegression      0.126866\n",
       "Ridge                   0.000000\n",
       "SVC                     0.000000"
      ]
     },
     "execution_count": 87,
     "metadata": {},
     "output_type": "execute_result"
    }
   ],
   "source": [
    "datas_recall_sorted = datas.sort_values(by='recall', ascending=False)\n",
    "datas_recall_sorted[['recall']]"
   ]
  },
  {
   "cell_type": "code",
   "execution_count": 88,
   "id": "cd01869a",
   "metadata": {},
   "outputs": [
    {
     "data": {
      "text/html": [
       "<div>\n",
       "<style scoped>\n",
       "    .dataframe tbody tr th:only-of-type {\n",
       "        vertical-align: middle;\n",
       "    }\n",
       "\n",
       "    .dataframe tbody tr th {\n",
       "        vertical-align: top;\n",
       "    }\n",
       "\n",
       "    .dataframe thead th {\n",
       "        text-align: right;\n",
       "    }\n",
       "</style>\n",
       "<table border=\"1\" class=\"dataframe\">\n",
       "  <thead>\n",
       "    <tr style=\"text-align: right;\">\n",
       "      <th></th>\n",
       "      <th>f1-score</th>\n",
       "    </tr>\n",
       "  </thead>\n",
       "  <tbody>\n",
       "    <tr>\n",
       "      <th>RandomForestClassifier</th>\n",
       "      <td>0.782258</td>\n",
       "    </tr>\n",
       "    <tr>\n",
       "      <th>DecisionTreeClassifier</th>\n",
       "      <td>0.749091</td>\n",
       "    </tr>\n",
       "    <tr>\n",
       "      <th>KNeighborsClassifier</th>\n",
       "      <td>0.511848</td>\n",
       "    </tr>\n",
       "    <tr>\n",
       "      <th>Perceptron</th>\n",
       "      <td>0.370588</td>\n",
       "    </tr>\n",
       "    <tr>\n",
       "      <th>SGDClassifier</th>\n",
       "      <td>0.351585</td>\n",
       "    </tr>\n",
       "    <tr>\n",
       "      <th>LogisticRegression</th>\n",
       "      <td>0.219355</td>\n",
       "    </tr>\n",
       "    <tr>\n",
       "      <th>Ridge</th>\n",
       "      <td>NaN</td>\n",
       "    </tr>\n",
       "    <tr>\n",
       "      <th>SVC</th>\n",
       "      <td>NaN</td>\n",
       "    </tr>\n",
       "  </tbody>\n",
       "</table>\n",
       "</div>"
      ],
      "text/plain": [
       "                        f1-score\n",
       "RandomForestClassifier  0.782258\n",
       "DecisionTreeClassifier  0.749091\n",
       "KNeighborsClassifier    0.511848\n",
       "Perceptron              0.370588\n",
       "SGDClassifier           0.351585\n",
       "LogisticRegression      0.219355\n",
       "Ridge                        NaN\n",
       "SVC                          NaN"
      ]
     },
     "execution_count": 88,
     "metadata": {},
     "output_type": "execute_result"
    }
   ],
   "source": [
    "datas_f1_sorted = datas.sort_values(by='f1-score', ascending=False)\n",
    "datas_f1_sorted[['f1-score']]"
   ]
  },
  {
   "cell_type": "markdown",
   "id": "0a6fbf0b",
   "metadata": {},
   "source": [
    "D'après les classements, les modèles <u>Ridge</u> et <u>SVC</u> fournissent un score incohérent (NaN ou 0), ils ne seronts donc pas sélectionnés dans les prochaines étapes. L'indicateur **recall** représentant le pourcentage d'employés quittant l'entreprise et étant bien détectés comme partant l'entreprise est donc celui qui nous interesse le plus. Cependant, il faut que le modèle reste aussi **précis** (accuracy). Les modèles sélectionnés sont donc les suivants : <u>RandomForestClassifier</u>, <u>DecisionTreeClassifier</u>, <u>Perceptron</u> et <u>KNeighborsClassifier</u>"
   ]
  },
  {
   "cell_type": "code",
   "execution_count": 120,
   "id": "924ec17d",
   "metadata": {},
   "outputs": [
    {
     "data": {
      "image/png": "[encoded data removed]",
      "text/plain": [
       "<Figure size 1728x432 with 4 Axes>"
      ]
     },
     "metadata": {},
     "output_type": "display_data"
    }
   ],
   "source": [
    "datas = datas_f1_sorted.head(4)\n",
    "titles = ['accuracy', 'precision', 'recall', 'f1-score']\n",
    "display_info(list(datas[titles].values), list(datas.index), titles, 1.2, 'Scores')"
   ]
  },
  {
   "cell_type": "markdown",
   "id": "3acd1688",
   "metadata": {},
   "source": [
    "### Courbe ROC et AUC"
   ]
  },
  {
   "cell_type": "code",
   "execution_count": 121,
   "id": "fd153b7e",
   "metadata": {},
   "outputs": [
    {
     "name": "stdout",
     "output_type": "stream",
     "text": [
      "Courbes ROC\n"
     ]
    },
    {
     "data": {
      "image/png": "[encoded data removed]",
      "text/plain": [
       "<Figure size 1440x432 with 4 Axes>"
      ]
     },
     "metadata": {},
     "output_type": "display_data"
    }
   ],
   "source": [
    "all_roc_params = list(datas['roc-parameters'].values)\n",
    "fig, axs = plt.subplots(nrows=1, ncols=len(all_roc_params), figsize=(20, 6))\n",
    "for i in range(0, len(all_roc_params)):\n",
    "    axs[i] = plot_roc_curve(all_roc_params[i]['false_pos'], all_roc_params[i]['true_pos'], axs[i], list(datas.index)[i])\n",
    "\n",
    "print(\"Courbes ROC\")\n",
    "save_fig(\"./outputs/all_roc_result\")\n",
    "plt.show()"
   ]
  },
  {
   "cell_type": "code",
   "execution_count": 122,
   "id": "6f7fddf5",
   "metadata": {},
   "outputs": [
    {
     "data": {
      "image/png": "[encoded data removed]",
      "text/plain": [
       "<Figure size 1728x432 with 1 Axes>"
      ]
     },
     "metadata": {},
     "output_type": "display_data"
    }
   ],
   "source": [
    "display_info(list(datas.auc.values), [\"AUC\"], list(datas.index), 1.2, 'AUC')"
   ]
  },
  {
   "cell_type": "markdown",
   "id": "9aa6f47e",
   "metadata": {},
   "source": [
    "D'après les courbes ROC, les <u>DecisionTreeClassifier</u>, <u>RandomForestClassifier</u> obtiennent un score AUC supérieur à 80%. Il va donc falloir départager ces deux modèles restant afin d'en sélectionner un seul.\n",
    "\n",
    "### Sélection parmi les modèles restants\n",
    "\n",
    "Il va falloir départager les modèles restant en prenant autre chose en compte que les indicateurs de qualité. Cela passe par l'observation de la différence performance en temps d'exécution de ceux-ci."
   ]
  },
  {
   "cell_type": "code",
   "execution_count": 125,
   "id": "53e2dddb",
   "metadata": {},
   "outputs": [],
   "source": [
    "# Importation des libraries\n",
    "import time\n",
    "\n",
    "from sklearn.tree import DecisionTreeClassifier\n",
    "from sklearn.ensemble import RandomForestClassifier\n",
    "\n",
    "X_train, X_test, y_train, y_test = train_test_split(X, y, test_size=.20)"
   ]
  },
  {
   "cell_type": "markdown",
   "id": "38a297ca",
   "metadata": {},
   "source": [
    "##### Calcul de la performance du modèle \"DecisionTreeClassifier\""
   ]
  },
  {
   "cell_type": "code",
   "execution_count": 126,
   "id": "377413fa",
   "metadata": {},
   "outputs": [
    {
     "data": {
      "text/plain": [
       "6.9809"
      ]
     },
     "execution_count": 126,
     "metadata": {},
     "output_type": "execute_result"
    }
   ],
   "source": [
    "start = time.time_ns()\n",
    "dtc = bests[\"DecisionTreeClassifier\"]\n",
    "dtc.fit(X_train, y_train)\n",
    "dtc.predict(X_test)\n",
    "end = time.time_ns()\n",
    "dtc_time = (end - start) / 10**6\n",
    "# Temps en ms\n",
    "dtc_time"
   ]
  },
  {
   "cell_type": "markdown",
   "id": "1f540caa",
   "metadata": {},
   "source": [
    "##### Calcul de la performance du modèle \"RandomForestClassifier\""
   ]
  },
  {
   "cell_type": "code",
   "execution_count": 127,
   "id": "92594871",
   "metadata": {},
   "outputs": [
    {
     "data": {
      "text/plain": [
       "601.6848"
      ]
     },
     "execution_count": 127,
     "metadata": {},
     "output_type": "execute_result"
    }
   ],
   "source": [
    "start = time.time_ns()\n",
    "rfc = bests[\"RandomForestClassifier\"]\n",
    "rfc.fit(X_train, y_train)\n",
    "rfc.predict(X_test)\n",
    "end = time.time_ns()\n",
    "rfc_time = (end - start) / 10**6\n",
    "# Temps en ms\n",
    "rfc_time"
   ]
  },
  {
   "cell_type": "code",
   "execution_count": 134,
   "id": "7e14212a",
   "metadata": {},
   "outputs": [
    {
     "data": {
      "image/png": "[encoded data removed]",
      "text/plain": [
       "<Figure size 1728x432 with 1 Axes>"
      ]
     },
     "metadata": {},
     "output_type": "display_data"
    }
   ],
   "source": [
    "display_info([dtc_time, rfc_time], [\"Temps d'éxécution en ms\"], [\"DecisionTreeClassifier\", \"KNeighborsClassifier\"], 670, 'Temps')"
   ]
  },
  {
   "cell_type": "markdown",
   "id": "0e0295e2",
   "metadata": {},
   "source": [
    "### Conclusion\n",
    "Le modèle \"<u>DecisionTreeClassifier</u>\" est plus rapide que le modèle \"<u>KNeighborsClassifier</u>\""
   ]
  },
  {
   "cell_type": "code",
   "execution_count": 130,
   "id": "d82ffcc2",
   "metadata": {},
   "outputs": [
    {
     "data": {
      "text/plain": [
       "True"
      ]
     },
     "execution_count": 130,
     "metadata": {},
     "output_type": "execute_result"
    }
   ],
   "source": [
    "dtc_time < rfc_time"
   ]
  },
  {
   "cell_type": "markdown",
   "id": "50837018",
   "metadata": {},
   "source": [
    "Après analyse, les conclusions qui ont été apportées sur le choix du modèle reprennent les principaux axes de performances.\n",
    "- La précision\n",
    "- La justesse\n",
    "- La rapidité\n",
    "\n",
    "Le modèle choisi est donc le \"<u>DecisionTreeClassifier</u>\" car ses métriques présentent un score élevé comme sa précision (Accuracy) à 92.2% et sa justesse (Recall) à 76.9%. Cependant, ce n'est pas ce qui va déterminer le choix final. Étant donné que le modèle \"<u>RandomForestClassifier</u>\" possède des scores tout aussi élevé, la décision finale s'est axée sur la performance en termes de rapidité : cela représente le temps d'exécution de \"<u>DecisionTreeClassifier</u>\". Son temps d'exécution de 6.98 ms est plus rapide de 601.68 ms par rapport au modèle \"<u>RandomForestClassifier</u>\".\n",
    "\n",
    "Cela prouve une fois de plus que le modèle le plus adapté pour les besoins de l'entreprise HumanForYou est \"<u>DecisionTreeClassifier</u>\".\n",
    "\n",
    "\n",
    "## Sélection du critère agissant le plus sur la décision des employés"
   ]
  },
  {
   "cell_type": "code",
   "execution_count": 101,
   "id": "5caf2278",
   "metadata": {},
   "outputs": [
    {
     "data": {
      "text/html": [
       "<div>\n",
       "<style scoped>\n",
       "    .dataframe tbody tr th:only-of-type {\n",
       "        vertical-align: middle;\n",
       "    }\n",
       "\n",
       "    .dataframe tbody tr th {\n",
       "        vertical-align: top;\n",
       "    }\n",
       "\n",
       "    .dataframe thead th {\n",
       "        text-align: right;\n",
       "    }\n",
       "</style>\n",
       "<table border=\"1\" class=\"dataframe\">\n",
       "  <thead>\n",
       "    <tr style=\"text-align: right;\">\n",
       "      <th></th>\n",
       "      <th>Feature</th>\n",
       "      <th>Importance</th>\n",
       "    </tr>\n",
       "  </thead>\n",
       "  <tbody>\n",
       "    <tr>\n",
       "      <th>4</th>\n",
       "      <td>AttendanceScore</td>\n",
       "      <td>0.325965</td>\n",
       "    </tr>\n",
       "    <tr>\n",
       "      <th>0</th>\n",
       "      <td>TotalWorkingYears</td>\n",
       "      <td>0.254763</td>\n",
       "    </tr>\n",
       "    <tr>\n",
       "      <th>1</th>\n",
       "      <td>YearsAtCompany</td>\n",
       "      <td>0.183759</td>\n",
       "    </tr>\n",
       "    <tr>\n",
       "      <th>2</th>\n",
       "      <td>YearsWithCurrManager</td>\n",
       "      <td>0.159362</td>\n",
       "    </tr>\n",
       "    <tr>\n",
       "      <th>3</th>\n",
       "      <td>EnvironmentSatisfaction</td>\n",
       "      <td>0.076151</td>\n",
       "    </tr>\n",
       "  </tbody>\n",
       "</table>\n",
       "</div>"
      ],
      "text/plain": [
       "                   Feature  Importance\n",
       "4          AttendanceScore    0.325965\n",
       "0        TotalWorkingYears    0.254763\n",
       "1           YearsAtCompany    0.183759\n",
       "2     YearsWithCurrManager    0.159362\n",
       "3  EnvironmentSatisfaction    0.076151"
      ]
     },
     "execution_count": 101,
     "metadata": {},
     "output_type": "execute_result"
    }
   ],
   "source": [
    "import pandas as pd\n",
    "\n",
    "data = {\n",
    "    'Feature': list(X.columns),\n",
    "    'Importance': list(bests[\"DecisionTreeClassifier\"].feature_importances_)  \n",
    "}\n",
    "\n",
    "selector = pd.DataFrame(data)\n",
    "selector = selector.sort_values(by='Importance', ascending=False)\n",
    "selector"
   ]
  },
  {
   "cell_type": "code",
   "execution_count": 131,
   "id": "86b2429d",
   "metadata": {},
   "outputs": [
    {
     "data": {
      "image/png": "[encoded data removed]",
      "text/plain": [
       "<Figure size 1440x360 with 1 Axes>"
      ]
     },
     "metadata": {},
     "output_type": "display_data"
    }
   ],
   "source": [
    "fig, ax = plt.subplots(figsize=(20, 5))\n",
    "sns.set(style='whitegrid', palette='magma', font_scale=1.5)\n",
    "sns.barplot(y='Feature', x='Importance', data=selector, ax=ax)\n",
    "ax.bar_label(ax.containers[-1], fmt=' %.4f', label_type='edge', fontsize=16)\n",
    "\n",
    "save_fig('./outputs/featureRank')"
   ]
  },
  {
   "cell_type": "markdown",
   "id": "2b8be356",
   "metadata": {},
   "source": [
    "Visiblement, le facteur agissant le plus sur la décision du modèle est le critère *AttendanceScore* suivis par le critère *TotalWorkingYears*."
   ]
  },
  {
   "cell_type": "markdown",
   "id": "5f9d9909",
   "metadata": {},
   "source": [
    "## Interprétation des résultats\n",
    "\n",
    "Les facteurs agissant le plus sur le départ des employés concernent notamment : le nombre d'années d'expérience en entreprise pour le même type de poste ainsi que leur assiduité dans l'entreprise.\n",
    "\n",
    "L'algorithme pourrait obtenir des résultats différents si la taille des données était plus grande.\n",
    "\n",
    "## Piste de solutions\n",
    "\n",
    "En plus de faire les sondages de satisfaction annuels, l'idéal serait de demander plus de détails sur le bien-être de l’employé dans l'entreprise, que ce soit à propos de son environnement, des relations humaines ou encore du poste occupé en lui-même. Prendre en compte ces détails sera utile pour améliorer la qualité de vie des employés et ainsi leur donner envie de rester. Il serait aussi nécessaire d'augmenter la fréquence de ces sondages en les rendant semestriels. Ensuite, diversifier les missions sur un poste, donner plus de responsabilités ou réorienter la personne si celle-ci n’est pas épanouie sur ce poste. Cela permettra de rompre les actions répétitives et de donner de l'importance à la personne. Si le travail est bien fait, il ne faut pas hésiter à récompenser le travail effectué. Enfin, si tous ces conseils sont appliqués, l'assiduité aura de grandes chances d'augmenter et moins d'employés voudront quitter les équipes.\n",
    "\n",
    "## Conclusion\n",
    "\n",
    "Pour conclure, cette intelligence artificielle retourne bien un résultat cohérent en représentant les critères dans l'ordre de l'histogramme ci-dessus. Cependant, il ne faut pas oublier que cet outil a été conçu dans l'optique d'informer l'utilisateur. En aucun cas cette IA ne doit avoir un pouvoir de décision sur les mesures adoptées suite à la prise de connaissance des données qu'elle fournit à l'entreprise. L'humain reste le seul et unique décisionnaire final."
   ]
  },
  {
   "cell_type": "code",
   "execution_count": null,
   "id": "8377ce2b",
   "metadata": {},
   "outputs": [],
   "source": []
  }
 ],
 "metadata": {
  "kernelspec": {
   "display_name": "Python 3 (ipykernel)",
   "language": "python",
   "name": "python3"
  },
  "language_info": {
   "codemirror_mode": {
    "name": "ipython",
    "version": 3
   },
   "file_extension": ".py",
   "mimetype": "text/x-python",
   "name": "python",
   "nbconvert_exporter": "python",
   "pygments_lexer": "ipython3",
   "version": "3.8.8"
  }
 },
 "nbformat": 4,
 "nbformat_minor": 5
}
